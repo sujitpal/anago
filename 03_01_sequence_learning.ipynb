{
  "nbformat": 4,
  "nbformat_minor": 0,
  "metadata": {
    "colab": {
      "name": "03-01-sequence-learning.ipynb",
      "provenance": [],
      "collapsed_sections": [],
      "authorship_tag": "ABX9TyOQYjYiAlNzVdXCyrNNSQja",
      "include_colab_link": true
    },
    "kernelspec": {
      "name": "python3",
      "display_name": "Python 3"
    },
    "accelerator": "GPU",
    "widgets": {
      "application/vnd.jupyter.widget-state+json": {
        "652b2e618d154b82940c066e84658c43": {
          "model_module": "@jupyter-widgets/controls",
          "model_name": "HBoxModel",
          "state": {
            "_view_name": "HBoxView",
            "_dom_classes": [],
            "_model_name": "HBoxModel",
            "_view_module": "@jupyter-widgets/controls",
            "_model_module_version": "1.5.0",
            "_view_count": null,
            "_view_module_version": "1.5.0",
            "box_style": "",
            "layout": "IPY_MODEL_ddcdf70fe8b242c4980f450ac82914ff",
            "_model_module": "@jupyter-widgets/controls",
            "children": [
              "IPY_MODEL_db0cf86012b34c52b1ba3251cf958503",
              "IPY_MODEL_7d176dd596ed48b2ac73edd18a70640f"
            ]
          }
        },
        "ddcdf70fe8b242c4980f450ac82914ff": {
          "model_module": "@jupyter-widgets/base",
          "model_name": "LayoutModel",
          "state": {
            "_view_name": "LayoutView",
            "grid_template_rows": null,
            "right": null,
            "justify_content": null,
            "_view_module": "@jupyter-widgets/base",
            "overflow": null,
            "_model_module_version": "1.2.0",
            "_view_count": null,
            "flex_flow": null,
            "width": null,
            "min_width": null,
            "border": null,
            "align_items": null,
            "bottom": null,
            "_model_module": "@jupyter-widgets/base",
            "top": null,
            "grid_column": null,
            "overflow_y": null,
            "overflow_x": null,
            "grid_auto_flow": null,
            "grid_area": null,
            "grid_template_columns": null,
            "flex": null,
            "_model_name": "LayoutModel",
            "justify_items": null,
            "grid_row": null,
            "max_height": null,
            "align_content": null,
            "visibility": null,
            "align_self": null,
            "height": null,
            "min_height": null,
            "padding": null,
            "grid_auto_rows": null,
            "grid_gap": null,
            "max_width": null,
            "order": null,
            "_view_module_version": "1.2.0",
            "grid_template_areas": null,
            "object_position": null,
            "object_fit": null,
            "grid_auto_columns": null,
            "margin": null,
            "display": null,
            "left": null
          }
        },
        "db0cf86012b34c52b1ba3251cf958503": {
          "model_module": "@jupyter-widgets/controls",
          "model_name": "FloatProgressModel",
          "state": {
            "_view_name": "ProgressView",
            "style": "IPY_MODEL_c941a525d7e84002b97915b55e87cbe6",
            "_dom_classes": [],
            "description": "Downloading: 100%",
            "_model_name": "FloatProgressModel",
            "bar_style": "success",
            "max": 231508,
            "_view_module": "@jupyter-widgets/controls",
            "_model_module_version": "1.5.0",
            "value": 231508,
            "_view_count": null,
            "_view_module_version": "1.5.0",
            "orientation": "horizontal",
            "min": 0,
            "description_tooltip": null,
            "_model_module": "@jupyter-widgets/controls",
            "layout": "IPY_MODEL_9eeeb345ef244064b827ac99c192449b"
          }
        },
        "7d176dd596ed48b2ac73edd18a70640f": {
          "model_module": "@jupyter-widgets/controls",
          "model_name": "HTMLModel",
          "state": {
            "_view_name": "HTMLView",
            "style": "IPY_MODEL_a064d01718f7487e9a1b4ebf718d984b",
            "_dom_classes": [],
            "description": "",
            "_model_name": "HTMLModel",
            "placeholder": "​",
            "_view_module": "@jupyter-widgets/controls",
            "_model_module_version": "1.5.0",
            "value": " 232k/232k [00:00&lt;00:00, 3.05MB/s]",
            "_view_count": null,
            "_view_module_version": "1.5.0",
            "description_tooltip": null,
            "_model_module": "@jupyter-widgets/controls",
            "layout": "IPY_MODEL_4f025b6a95414ba38e7d10b6d240cfce"
          }
        },
        "c941a525d7e84002b97915b55e87cbe6": {
          "model_module": "@jupyter-widgets/controls",
          "model_name": "ProgressStyleModel",
          "state": {
            "_view_name": "StyleView",
            "_model_name": "ProgressStyleModel",
            "description_width": "initial",
            "_view_module": "@jupyter-widgets/base",
            "_model_module_version": "1.5.0",
            "_view_count": null,
            "_view_module_version": "1.2.0",
            "bar_color": null,
            "_model_module": "@jupyter-widgets/controls"
          }
        },
        "9eeeb345ef244064b827ac99c192449b": {
          "model_module": "@jupyter-widgets/base",
          "model_name": "LayoutModel",
          "state": {
            "_view_name": "LayoutView",
            "grid_template_rows": null,
            "right": null,
            "justify_content": null,
            "_view_module": "@jupyter-widgets/base",
            "overflow": null,
            "_model_module_version": "1.2.0",
            "_view_count": null,
            "flex_flow": null,
            "width": null,
            "min_width": null,
            "border": null,
            "align_items": null,
            "bottom": null,
            "_model_module": "@jupyter-widgets/base",
            "top": null,
            "grid_column": null,
            "overflow_y": null,
            "overflow_x": null,
            "grid_auto_flow": null,
            "grid_area": null,
            "grid_template_columns": null,
            "flex": null,
            "_model_name": "LayoutModel",
            "justify_items": null,
            "grid_row": null,
            "max_height": null,
            "align_content": null,
            "visibility": null,
            "align_self": null,
            "height": null,
            "min_height": null,
            "padding": null,
            "grid_auto_rows": null,
            "grid_gap": null,
            "max_width": null,
            "order": null,
            "_view_module_version": "1.2.0",
            "grid_template_areas": null,
            "object_position": null,
            "object_fit": null,
            "grid_auto_columns": null,
            "margin": null,
            "display": null,
            "left": null
          }
        },
        "a064d01718f7487e9a1b4ebf718d984b": {
          "model_module": "@jupyter-widgets/controls",
          "model_name": "DescriptionStyleModel",
          "state": {
            "_view_name": "StyleView",
            "_model_name": "DescriptionStyleModel",
            "description_width": "",
            "_view_module": "@jupyter-widgets/base",
            "_model_module_version": "1.5.0",
            "_view_count": null,
            "_view_module_version": "1.2.0",
            "_model_module": "@jupyter-widgets/controls"
          }
        },
        "4f025b6a95414ba38e7d10b6d240cfce": {
          "model_module": "@jupyter-widgets/base",
          "model_name": "LayoutModel",
          "state": {
            "_view_name": "LayoutView",
            "grid_template_rows": null,
            "right": null,
            "justify_content": null,
            "_view_module": "@jupyter-widgets/base",
            "overflow": null,
            "_model_module_version": "1.2.0",
            "_view_count": null,
            "flex_flow": null,
            "width": null,
            "min_width": null,
            "border": null,
            "align_items": null,
            "bottom": null,
            "_model_module": "@jupyter-widgets/base",
            "top": null,
            "grid_column": null,
            "overflow_y": null,
            "overflow_x": null,
            "grid_auto_flow": null,
            "grid_area": null,
            "grid_template_columns": null,
            "flex": null,
            "_model_name": "LayoutModel",
            "justify_items": null,
            "grid_row": null,
            "max_height": null,
            "align_content": null,
            "visibility": null,
            "align_self": null,
            "height": null,
            "min_height": null,
            "padding": null,
            "grid_auto_rows": null,
            "grid_gap": null,
            "max_width": null,
            "order": null,
            "_view_module_version": "1.2.0",
            "grid_template_areas": null,
            "object_position": null,
            "object_fit": null,
            "grid_auto_columns": null,
            "margin": null,
            "display": null,
            "left": null
          }
        },
        "8e9def359f9a48bd97a23d83f52e5313": {
          "model_module": "@jupyter-widgets/controls",
          "model_name": "HBoxModel",
          "state": {
            "_view_name": "HBoxView",
            "_dom_classes": [],
            "_model_name": "HBoxModel",
            "_view_module": "@jupyter-widgets/controls",
            "_model_module_version": "1.5.0",
            "_view_count": null,
            "_view_module_version": "1.5.0",
            "box_style": "",
            "layout": "IPY_MODEL_1e97d1602b1049ae8726eca35adc8d0c",
            "_model_module": "@jupyter-widgets/controls",
            "children": [
              "IPY_MODEL_b3461ca1021540c98723b5f65633ae48",
              "IPY_MODEL_090038fdaa0e401190b2c38aa62ff576"
            ]
          }
        },
        "1e97d1602b1049ae8726eca35adc8d0c": {
          "model_module": "@jupyter-widgets/base",
          "model_name": "LayoutModel",
          "state": {
            "_view_name": "LayoutView",
            "grid_template_rows": null,
            "right": null,
            "justify_content": null,
            "_view_module": "@jupyter-widgets/base",
            "overflow": null,
            "_model_module_version": "1.2.0",
            "_view_count": null,
            "flex_flow": null,
            "width": null,
            "min_width": null,
            "border": null,
            "align_items": null,
            "bottom": null,
            "_model_module": "@jupyter-widgets/base",
            "top": null,
            "grid_column": null,
            "overflow_y": null,
            "overflow_x": null,
            "grid_auto_flow": null,
            "grid_area": null,
            "grid_template_columns": null,
            "flex": null,
            "_model_name": "LayoutModel",
            "justify_items": null,
            "grid_row": null,
            "max_height": null,
            "align_content": null,
            "visibility": null,
            "align_self": null,
            "height": null,
            "min_height": null,
            "padding": null,
            "grid_auto_rows": null,
            "grid_gap": null,
            "max_width": null,
            "order": null,
            "_view_module_version": "1.2.0",
            "grid_template_areas": null,
            "object_position": null,
            "object_fit": null,
            "grid_auto_columns": null,
            "margin": null,
            "display": null,
            "left": null
          }
        },
        "b3461ca1021540c98723b5f65633ae48": {
          "model_module": "@jupyter-widgets/controls",
          "model_name": "FloatProgressModel",
          "state": {
            "_view_name": "ProgressView",
            "style": "IPY_MODEL_13797aeee768470da707c5d771b26cf7",
            "_dom_classes": [],
            "description": "Downloading: 100%",
            "_model_name": "FloatProgressModel",
            "bar_style": "success",
            "max": 433,
            "_view_module": "@jupyter-widgets/controls",
            "_model_module_version": "1.5.0",
            "value": 433,
            "_view_count": null,
            "_view_module_version": "1.5.0",
            "orientation": "horizontal",
            "min": 0,
            "description_tooltip": null,
            "_model_module": "@jupyter-widgets/controls",
            "layout": "IPY_MODEL_b75ad2b0df9149adacc65dcbc4e45fe3"
          }
        },
        "090038fdaa0e401190b2c38aa62ff576": {
          "model_module": "@jupyter-widgets/controls",
          "model_name": "HTMLModel",
          "state": {
            "_view_name": "HTMLView",
            "style": "IPY_MODEL_916c4b3b701b434389555a3a5bfc5772",
            "_dom_classes": [],
            "description": "",
            "_model_name": "HTMLModel",
            "placeholder": "​",
            "_view_module": "@jupyter-widgets/controls",
            "_model_module_version": "1.5.0",
            "value": " 433/433 [00:07&lt;00:00, 58.0B/s]",
            "_view_count": null,
            "_view_module_version": "1.5.0",
            "description_tooltip": null,
            "_model_module": "@jupyter-widgets/controls",
            "layout": "IPY_MODEL_0b924f6e149b4d35a53ccc247c48b19e"
          }
        },
        "13797aeee768470da707c5d771b26cf7": {
          "model_module": "@jupyter-widgets/controls",
          "model_name": "ProgressStyleModel",
          "state": {
            "_view_name": "StyleView",
            "_model_name": "ProgressStyleModel",
            "description_width": "initial",
            "_view_module": "@jupyter-widgets/base",
            "_model_module_version": "1.5.0",
            "_view_count": null,
            "_view_module_version": "1.2.0",
            "bar_color": null,
            "_model_module": "@jupyter-widgets/controls"
          }
        },
        "b75ad2b0df9149adacc65dcbc4e45fe3": {
          "model_module": "@jupyter-widgets/base",
          "model_name": "LayoutModel",
          "state": {
            "_view_name": "LayoutView",
            "grid_template_rows": null,
            "right": null,
            "justify_content": null,
            "_view_module": "@jupyter-widgets/base",
            "overflow": null,
            "_model_module_version": "1.2.0",
            "_view_count": null,
            "flex_flow": null,
            "width": null,
            "min_width": null,
            "border": null,
            "align_items": null,
            "bottom": null,
            "_model_module": "@jupyter-widgets/base",
            "top": null,
            "grid_column": null,
            "overflow_y": null,
            "overflow_x": null,
            "grid_auto_flow": null,
            "grid_area": null,
            "grid_template_columns": null,
            "flex": null,
            "_model_name": "LayoutModel",
            "justify_items": null,
            "grid_row": null,
            "max_height": null,
            "align_content": null,
            "visibility": null,
            "align_self": null,
            "height": null,
            "min_height": null,
            "padding": null,
            "grid_auto_rows": null,
            "grid_gap": null,
            "max_width": null,
            "order": null,
            "_view_module_version": "1.2.0",
            "grid_template_areas": null,
            "object_position": null,
            "object_fit": null,
            "grid_auto_columns": null,
            "margin": null,
            "display": null,
            "left": null
          }
        },
        "916c4b3b701b434389555a3a5bfc5772": {
          "model_module": "@jupyter-widgets/controls",
          "model_name": "DescriptionStyleModel",
          "state": {
            "_view_name": "StyleView",
            "_model_name": "DescriptionStyleModel",
            "description_width": "",
            "_view_module": "@jupyter-widgets/base",
            "_model_module_version": "1.5.0",
            "_view_count": null,
            "_view_module_version": "1.2.0",
            "_model_module": "@jupyter-widgets/controls"
          }
        },
        "0b924f6e149b4d35a53ccc247c48b19e": {
          "model_module": "@jupyter-widgets/base",
          "model_name": "LayoutModel",
          "state": {
            "_view_name": "LayoutView",
            "grid_template_rows": null,
            "right": null,
            "justify_content": null,
            "_view_module": "@jupyter-widgets/base",
            "overflow": null,
            "_model_module_version": "1.2.0",
            "_view_count": null,
            "flex_flow": null,
            "width": null,
            "min_width": null,
            "border": null,
            "align_items": null,
            "bottom": null,
            "_model_module": "@jupyter-widgets/base",
            "top": null,
            "grid_column": null,
            "overflow_y": null,
            "overflow_x": null,
            "grid_auto_flow": null,
            "grid_area": null,
            "grid_template_columns": null,
            "flex": null,
            "_model_name": "LayoutModel",
            "justify_items": null,
            "grid_row": null,
            "max_height": null,
            "align_content": null,
            "visibility": null,
            "align_self": null,
            "height": null,
            "min_height": null,
            "padding": null,
            "grid_auto_rows": null,
            "grid_gap": null,
            "max_width": null,
            "order": null,
            "_view_module_version": "1.2.0",
            "grid_template_areas": null,
            "object_position": null,
            "object_fit": null,
            "grid_auto_columns": null,
            "margin": null,
            "display": null,
            "left": null
          }
        },
        "3828d53ef4eb41588d8252aa65b7846b": {
          "model_module": "@jupyter-widgets/controls",
          "model_name": "HBoxModel",
          "state": {
            "_view_name": "HBoxView",
            "_dom_classes": [],
            "_model_name": "HBoxModel",
            "_view_module": "@jupyter-widgets/controls",
            "_model_module_version": "1.5.0",
            "_view_count": null,
            "_view_module_version": "1.5.0",
            "box_style": "",
            "layout": "IPY_MODEL_3bdd3ecf23a54fde9d0a170e3c90d822",
            "_model_module": "@jupyter-widgets/controls",
            "children": [
              "IPY_MODEL_6b7f5ef7d63741d8b36751bfb5f0c096",
              "IPY_MODEL_89d261ef2a4940df9e47ad3e72d495b2"
            ]
          }
        },
        "3bdd3ecf23a54fde9d0a170e3c90d822": {
          "model_module": "@jupyter-widgets/base",
          "model_name": "LayoutModel",
          "state": {
            "_view_name": "LayoutView",
            "grid_template_rows": null,
            "right": null,
            "justify_content": null,
            "_view_module": "@jupyter-widgets/base",
            "overflow": null,
            "_model_module_version": "1.2.0",
            "_view_count": null,
            "flex_flow": null,
            "width": null,
            "min_width": null,
            "border": null,
            "align_items": null,
            "bottom": null,
            "_model_module": "@jupyter-widgets/base",
            "top": null,
            "grid_column": null,
            "overflow_y": null,
            "overflow_x": null,
            "grid_auto_flow": null,
            "grid_area": null,
            "grid_template_columns": null,
            "flex": null,
            "_model_name": "LayoutModel",
            "justify_items": null,
            "grid_row": null,
            "max_height": null,
            "align_content": null,
            "visibility": null,
            "align_self": null,
            "height": null,
            "min_height": null,
            "padding": null,
            "grid_auto_rows": null,
            "grid_gap": null,
            "max_width": null,
            "order": null,
            "_view_module_version": "1.2.0",
            "grid_template_areas": null,
            "object_position": null,
            "object_fit": null,
            "grid_auto_columns": null,
            "margin": null,
            "display": null,
            "left": null
          }
        },
        "6b7f5ef7d63741d8b36751bfb5f0c096": {
          "model_module": "@jupyter-widgets/controls",
          "model_name": "FloatProgressModel",
          "state": {
            "_view_name": "ProgressView",
            "style": "IPY_MODEL_4c4e017f3bec46198d6fba567c5d180f",
            "_dom_classes": [],
            "description": "Downloading: 100%",
            "_model_name": "FloatProgressModel",
            "bar_style": "success",
            "max": 536063208,
            "_view_module": "@jupyter-widgets/controls",
            "_model_module_version": "1.5.0",
            "value": 536063208,
            "_view_count": null,
            "_view_module_version": "1.5.0",
            "orientation": "horizontal",
            "min": 0,
            "description_tooltip": null,
            "_model_module": "@jupyter-widgets/controls",
            "layout": "IPY_MODEL_2f997874a4f94a64b591c7d5282352d6"
          }
        },
        "89d261ef2a4940df9e47ad3e72d495b2": {
          "model_module": "@jupyter-widgets/controls",
          "model_name": "HTMLModel",
          "state": {
            "_view_name": "HTMLView",
            "style": "IPY_MODEL_a237725736574100b8184519f3b3729c",
            "_dom_classes": [],
            "description": "",
            "_model_name": "HTMLModel",
            "placeholder": "​",
            "_view_module": "@jupyter-widgets/controls",
            "_model_module_version": "1.5.0",
            "value": " 536M/536M [00:07&lt;00:00, 73.9MB/s]",
            "_view_count": null,
            "_view_module_version": "1.5.0",
            "description_tooltip": null,
            "_model_module": "@jupyter-widgets/controls",
            "layout": "IPY_MODEL_33259bb194c24dabaac0c5242851dfd3"
          }
        },
        "4c4e017f3bec46198d6fba567c5d180f": {
          "model_module": "@jupyter-widgets/controls",
          "model_name": "ProgressStyleModel",
          "state": {
            "_view_name": "StyleView",
            "_model_name": "ProgressStyleModel",
            "description_width": "initial",
            "_view_module": "@jupyter-widgets/base",
            "_model_module_version": "1.5.0",
            "_view_count": null,
            "_view_module_version": "1.2.0",
            "bar_color": null,
            "_model_module": "@jupyter-widgets/controls"
          }
        },
        "2f997874a4f94a64b591c7d5282352d6": {
          "model_module": "@jupyter-widgets/base",
          "model_name": "LayoutModel",
          "state": {
            "_view_name": "LayoutView",
            "grid_template_rows": null,
            "right": null,
            "justify_content": null,
            "_view_module": "@jupyter-widgets/base",
            "overflow": null,
            "_model_module_version": "1.2.0",
            "_view_count": null,
            "flex_flow": null,
            "width": null,
            "min_width": null,
            "border": null,
            "align_items": null,
            "bottom": null,
            "_model_module": "@jupyter-widgets/base",
            "top": null,
            "grid_column": null,
            "overflow_y": null,
            "overflow_x": null,
            "grid_auto_flow": null,
            "grid_area": null,
            "grid_template_columns": null,
            "flex": null,
            "_model_name": "LayoutModel",
            "justify_items": null,
            "grid_row": null,
            "max_height": null,
            "align_content": null,
            "visibility": null,
            "align_self": null,
            "height": null,
            "min_height": null,
            "padding": null,
            "grid_auto_rows": null,
            "grid_gap": null,
            "max_width": null,
            "order": null,
            "_view_module_version": "1.2.0",
            "grid_template_areas": null,
            "object_position": null,
            "object_fit": null,
            "grid_auto_columns": null,
            "margin": null,
            "display": null,
            "left": null
          }
        },
        "a237725736574100b8184519f3b3729c": {
          "model_module": "@jupyter-widgets/controls",
          "model_name": "DescriptionStyleModel",
          "state": {
            "_view_name": "StyleView",
            "_model_name": "DescriptionStyleModel",
            "description_width": "",
            "_view_module": "@jupyter-widgets/base",
            "_model_module_version": "1.5.0",
            "_view_count": null,
            "_view_module_version": "1.2.0",
            "_model_module": "@jupyter-widgets/controls"
          }
        },
        "33259bb194c24dabaac0c5242851dfd3": {
          "model_module": "@jupyter-widgets/base",
          "model_name": "LayoutModel",
          "state": {
            "_view_name": "LayoutView",
            "grid_template_rows": null,
            "right": null,
            "justify_content": null,
            "_view_module": "@jupyter-widgets/base",
            "overflow": null,
            "_model_module_version": "1.2.0",
            "_view_count": null,
            "flex_flow": null,
            "width": null,
            "min_width": null,
            "border": null,
            "align_items": null,
            "bottom": null,
            "_model_module": "@jupyter-widgets/base",
            "top": null,
            "grid_column": null,
            "overflow_y": null,
            "overflow_x": null,
            "grid_auto_flow": null,
            "grid_area": null,
            "grid_template_columns": null,
            "flex": null,
            "_model_name": "LayoutModel",
            "justify_items": null,
            "grid_row": null,
            "max_height": null,
            "align_content": null,
            "visibility": null,
            "align_self": null,
            "height": null,
            "min_height": null,
            "padding": null,
            "grid_auto_rows": null,
            "grid_gap": null,
            "max_width": null,
            "order": null,
            "_view_module_version": "1.2.0",
            "grid_template_areas": null,
            "object_position": null,
            "object_fit": null,
            "grid_auto_columns": null,
            "margin": null,
            "display": null,
            "left": null
          }
        }
      }
    }
  },
  "cells": [
    {
      "cell_type": "markdown",
      "metadata": {
        "id": "view-in-github",
        "colab_type": "text"
      },
      "source": [
        "<a href=\"https://colab.research.google.com/github/sujitpal/anago/blob/master/03_01_sequence_learning.ipynb\" target=\"_parent\"><img src=\"https://colab.research.google.com/assets/colab-badge.svg\" alt=\"Open In Colab\"/></a>"
      ]
    },
    {
      "cell_type": "markdown",
      "metadata": {
        "id": "r6loCrCwevxK"
      },
      "source": [
        "# Networks for Sequence Learning\n",
        "\n",
        "__NOTE: Please set runtime type to GPU for this notebook.__\n",
        "\n",
        "Recurrent Neural Networks are a class of neural networks specialized for sequential data (text, speech, video, etc).\n",
        "\n",
        "Fully connected or Dense networks consume the entire input at once. Convolution networks take advantage of the hierarchical nature of the input. Recurrent networks have a mechanism to \"remember\" the value of inputs from previous time steps.\n",
        "\n",
        "\n",
        "![image.png](data:image/png;base64,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)\n",
        "\n",
        "In equations, an RNN can be defined as follows:\n",
        "\n",
        "![image.png](data:image/png;base64,iVBORw0KGgoAAAANSUhEUgAAARcAAAB9CAYAAACIyydcAAAWoUlEQVR4Ae1dCbbrIAh9O+pysqQsqUvpcvIOGhQRHBLTmpb3zz/NoAgXvKKZ/jb7MwQMAUPgAgT+LpBpIg0BQ8AQ2IxcLAgMAUPgEgSGkstrfWx/y1NX9Llsf491e+kl7MyvIvDu2Hit2+Nv2QrR+jueqGL/2tbH31bq2hJY48jluWyPtYE2wKlGMJIvfvcYxERv5Hah9dwWkUi0413C7124A/vn0kcwg8jluS0iYciMBxnOpbF0b3f/mPYQI3IGAcHcNGBpiLns5G/7+4P/chtb66CotXHr473Ya/1cBmEIuahk4ZwrObVPSVl1O/oVCKidG7KKx9aSDFdxUOMQauodrCr37gUOYK/2dQGLAeQCzlGCQJ3LFeoIStqh70VATbWLhNCJR0WWqkNnM3crrtpdwgv6dOO0YwC5CPNWUMClon/bY1m2B2wzhVTD7uahor6ADablOQbFqoNPAt7ok+QXp7MuoKQy6cCRy0nPb1uPzcIgQ/VYFo8f6ngUk1JngdxlfZybfh3UK8cy4p92F4bpHlNpmV4lDmIPWDb64zy5qI2B8voC0Kcc2uuCU+Vfrw3+AQ7QoU+tH5xSBCuTIOUB4nTdthjwnDRAxmt7uTV7ITCxCffbajPoI02bvR7D8KqQC6y78MEvMeeSHYolkoqMRWxexyuWad3SZUEM6Njr9XjL15FLxaE/QS4ObXAGBI/UWbk76vuvdT1x+RR1AX3kQAa/YGajjYx132E7NZu1QIXjed1IfNgZpV/BrkosniWX53rm9grEqiGzVZcZ6nGTl+jDPtbX6sUSuHWeXCAN5qMgSK8AAQGqBS8q9xW/YYooBP0BA59L3unaxcSMooVcxNFLzVSJFs02gz4CLjUyIE01bdbkqQubLdIVG1qqQpmAVSlb8MLqpN7aKJRT9K5hpfV3oekB5CIrmaRWgvPg/C+QS8gEBhl7jlwq0x4XWDEbyMkFfF0ntx6bJXtcfcQLdMJtIYCbDlU6zLlOK8d/k177eo/PFGu4Qjtj+8wh7AFLKZkQDJbJhbCpM/yxbk9IlxWhkpKUkfP57DmHCHZMesgHhFtvecTphsP0YIcRse6wPnT8Px6ooOtjW59w5+pOMEzHtk5IbF5fZA3Hy+SEBTJZM7DCGnVQYq7JZCoHbRKmg+cwPRPLESstk4x2VqYj3FaHG5XP/e0XsruxFxKFqGO6lZELzmuTRgPZKOza0aBrHoBIGkiV+p49ZT6NgXAAg3MdQU/DI3EQnZOOXQnu4DRSPyEwDHQWQx+PBWVaH+ypbZwhF4JVLRagDyb+IHrxc6G/7oSC8cbrH8C+J/4ScgmjGjcUleXKJfYJc2dynm72KEjrtW4HO8JoFVN9n4IK+wXbWtvNyiFufLREZ/PjmYD8wGnsgk50AZESB5IAYBR92jyNDfIZiZCrZjy8Xusy5ma5HK7qETFzqtaiBU6QS8DqzHoL9d2uF8rdYzr0Bw68m5Z1YN9JRpFcQsDn6RNmMzylpRC7+xsE5dMyfuRsKZbVu+EB1anofOGKSM3M0+RC/IzT1ZQ4KLnsBAH6NjpNtTm0y0kHLH5t63LmiksNNeX8a92W07cAHyeXgFU1DrxPRBfstxBQC7G/tvmsFfvWclGTQC7R0Dha+WIx2ETjoiy/8l0q1BGkVOw9tyNunJR1rNHSWFfNtISsjLeD0tJfkorDyCb4JASnC3phZEwFkr2oN9cl2KxliEA+2jnSwrDN7vYIbgL2mp/07hCxohmibN8xH+hts1aqWICu0qDA5LDdnFy4g4sjDpM2yW4I5I4gUOezh23CYOROIUHV7P2oxOnMhUxPfIfgg4lf6KOdhRNF1IZv1W1ul8Vlz7oP/swxrGtL4oD3OVbZxXNrrEzUXwO5hNGKG4Ep/A4AGPp9AcK8OWQXOxoLvJPOP08u9HJ0PgV2pqPPgZwrgZ9AFepVbHYYsDKJoDvtXEwuDis+QBF8QjzteKIPmN+6CIqIP7MZyCVcOk7IhbCrO34UyDMq3reuJ+w0MJDEE5g7TBxKLiwAgxohYFPdw3llI2SM3DgW8FCOF1FE3uDwiT6BuGhrLrsfilihjN2XGF/JoODkvJ/MI7mAG1HRMJ2A4MIR2F9hKRp6g1B4r4qEnAOm55w8glw8CRSIYw/q3gwVAzuvl+KQn3+vV8a2doJcQJFA5MIVTHK1Ttc57Z+AbSB5jDltENGFDjmTkssQkSbkSgRGkMuV+v2e7JPk8sWAGbnczLnnHly8mbE3Uffcg4s3MfKAmkYuB0CzKoaAIVBHwMiljpGVMAQMgQMIGLkcAM2qGAKGQB0BI5c6RlbCEDAEDiBg5HIANKtiCBgCdQSMXOoYWQlDwBA4gICRywHQrIohYAjUETByqWNkJQwBQ+AAAkYuB0CzKoaAIVBHYCi5uGcaSg8fwbNLH3rOoQ6FlRiHgH+WqBQK7jk2i4VxkE8oaRy5tL5HFx7UsqCaMBTGqdT8/JPFwjjQJ5Q0iFy0lxzLI9h3PXI/oVc/qZI2yLinf/Mnwi0WPumsa9seQi5qgCgB5d63a9nLtZ79iHT9CWF9yqwNTB8xwBodiMAAcoGAUt4Noq6xFOoMNM5E9SIA7wbJs4tmKYVpDrzrRX6PixYLJ3VpVtoKXoUAIxdwNHlpTVN2IQQBeenUY1n8B67Y6h4EGzt0lY2/I5fi3v1We/D9CWIBlKF95lR8gRR8K3tZ/IfhWBH34TR+zDvNspo7By8jl92ly04wssdTe9XRyhOVJgLSZHkkS8XbXi8CHvdebJsXYQvqqD5Vp8demFoPTg/5/EdBaTt1GQICucTsRSOGRBuNXM4EVNLAzXfe3jkOkAv4qsnZZV9oJAHHeUZDJWn1sMwI4kNZ9vs+BHJycaQAmYuyjpLppqSu6nqLFwABNSCeM22mO6BdPblM0X5yGTZFVWzV11saY0GYbl0GnwkehkBOLjhvb1pvAT0gmPO5ehJQQtANC+hhUFwhqL+jn9eit01hzeyoEmIGBPLjQCVlIfVYGKjjUdusXjcCGbmAo90HsZZn/hZxJdWQAib5kkBWTyakbu1nrhAyQLJAnnyY3Svvpgz4lnbhPMXRr6NAR0OZOal7sscrM7Wy+yJsdSDxhEU/lLY8vezUtXIWG2JKsk8ZnFLXQvuRoNJztjcrAoxc0iCii4IYIGkw7WYJmUnRYHGEK9a43Un/0mbfASmOiSHZ1NHjn5ffj7srb4RQsvogvafs/nVF0am7pkiSCQGROGF1xYEmMZrtNMYCxF+OC5Nlu1MhkJILBpIwwiC5aA5+LiToKyZ2B2BFHj/NswE64qrbSefhEo/ul8kF9aT90x3LdNk7Mz/u/MVH9J6y/uuLmk/dzY4uS1LaEOLE1aEGVaBrjQUjlwqQE55OyUVdb4nptR43z23RT0bTn8tvLOQ6i8vkEkGJW0Vy4fiWyKWpbJlccEDJHjYNg5AyoLT6uLWcuyJdvuIUEbStWRBIyCUEEw9MJJ3a3ZtQjtelltbO07Jfsd1ALqGj4jqK9H3mfarDb4wrkEuWjYhlS+QSB5RMFsYDz6SIzyCWSqEg3XBHqmebjnSLArMqduDDCBByifNo7kOVdD6svNY8TjfUKVBYEC11aE16z3FOLq9tXZ9BgNczHf1LmUvWyUXC6CGiNnKZIR4gBjP7A5K2MSMCkVzCCMrn13EE80EG+7zMjKbNoFOBXHa8eYeh5BK/5NdDGD1lCwu6ajzwQQhsTAnyCuSNXK5A9VqZkVy0VDcE2R5AvVeGrtV/cum8oz+3Fac2Crm4LHGfbryDXNz0RJzeIImwgQTjBAeYt8QD6ML0mNzzpt62BXIJUwmeA7tbIcj0QThvQBYQCJ0RMExH+IA5mabh/SMwpXNZTVIfZEAnw47P/NJTNqhcyjzkdhK9RWIKwgdtlHQc1ISJGY5AIJfhkk3gbRCAbGnqMQNIc2oFb+Pqtypq5PJWuCdtDKZo03ZemxJNGjVVtYxcqhD9RoHWm9nejsZb1nTebtVPNGjk8hNubjHyta3Lur1air6tjPys0tuat4ZOIWDkcgq+L6vsrmCli86fs9AWcT+H/ZiWjVzG4GhSDAFDgCFg5MIAsV1DwBAYg4CRyxgcTYohYAgwBIxcGCC2awgYAmMQMHIZg6NJMQQMAYaAkQsDxHYNAUNgDAJDycU9c1K60xNu437LsyhjwDEp4xGoxshUl8PH2/9LEseRS+udlBA8RjC/FGPR1tYY2ewelwjafbcGkYt2J6V/qpYnMzB68WP3hdA0b0OgL0bgVRD8XTdt7VipWRAYQi4qWagprhZos8BieoxGoD9GYGCa5W7h0Wj8hrwB5FJ4alVdYynU+Q3cf8zKgr/VGPGv4LQM976hMoBchPkxBMz+AqSH+9bOX/Y+junfIXJfn06o+bEYgWzHpkYTurNRpfPkoi7Qwmilv4TIAqfRQ0OKeV8g4Se/0uI6GRywbNrJmTxJBtX7YIz0fiGANmnbn0fgOnJR11u80UYun3A+ZBD7qzFrhIBfbsR3/grquvf9grza3EUjl0qMGLkIoN/o0HlygcuGUqAW5tKAj7rAdyPwPqFqfGn3kdZpxlFeLAX/lEkjyqpxi/sK44EYsStGR3w8T50B5AJBlgcqjGohlRYuK9qay5EgkLHukRSyDXx7v1S5llFAHVcGXxguCaHHZL1rMWLZLcXwftsDyAVW9YXPPtB5eza0ycF2P/jerfF53FxGgovt4pQH2tDXyoLF6F8pIwmF4kZ/jChxFUXa1uQIKORC5uY4Ry+NdEJmUrQbRr2McIo1bn8yZgzxcyD9EJwnF7eOgT4VFKhPh7wrgj3L001xceHX/Qpy+6c4ynT79pHwOwZk5IJBE6Y0OxZ4XIobKPJc8qmRBqM4immF7348TB8oPkje9FiLoQPIJegjfJPanWvRyWc3SCg0Vkpx0hMjQHJarLUgZWU+j0BCLiFlFlLd0jlvxnNbWqLhuVweNEFXHKFbfgWbz7sHSSSdZgT9utscQC7uuR3MniiRgK7C9FYCgRAUdzmSCyWcKKIxRl7rtohTtijJtuZHgJCL3BHQhKYOAfNwHm0oAH5r52nZL9jGjjbuSfAR5AJuQHKJZALHZEIQHKGut5RjyEmqxQAQVzfpCjraoY8jEMglkIc4epE02Bzf6LTY0Zo7bZAc6+LUo+W3xOtB9H4bAMpzdaDDd/g1kBNvEEmHfbaWtm3bv4NATi5ikMVg7+8o7wczEiWO0A2/ot1ndI+Y8T54XOqYzIUu6j7WtX065BSPAw23SyWd4wZbzRsjkJMLjxg60g3vgDdGrqo6kkucelSrVAsMIheyZgIZTNeAEepyu9BeXF+CfV6maqAV+CIEArmEm6I4gYRgoot/X4TAhabgSC7wtV9/6u58g8iFLupyf9fwwKkPr8fjpPf2hFq7dv52CERyAdVDgKTTiK6R7XYQXKswEgyucYRfkXFquowiF5za9GcWYcop6J/YKpyvWWfnvwuBlFy+y7YvtGYUuXwhNGbSdAgYuUznkrJC5x5cLMu2s4bASASMXEaiabIMAUMgIGDkEqCwDUPAEBiJgJHLSDRNliFgCAQEjFwCFLZhCBgCIxEwchmJpskyBAyBgICRS4DCNgwBQ2AkAkYuI9E0WYaAIRAQMHIJUNiGIWAIjETAyGUkmibLEDAEAgJDycU9d1J6pqTzvSFBS9swBAoIVOPOPTNnD94WILzk1DhyaX0KFhzNn6i9xDQT+hMItMadexLcCOadMTGIXLQ3tfunb3kyAyMNP/ZOo62tb0GgL+76v0DwLTh9xo4h5KKShZqOakHxGRCs1Xsi0B939lT5Oz1dJ5fq2/rBYcp7QdQ1lkKdd1pvbd0YgUIMqXHnX06eZ80FWTdG6NOql8kFnLQ83dvic4eg6vA6QzaXhXr75zwey7I9YJsJgBcLsUMo0H5/CgEhfprsF+o1xB1kO/LLz4BgWBw36WGFNARUcnFvFSO9n+8HgeoCLThLJxDdyUGybTAEADMk7Z639TMxE+2e6NAH4678eZvG7ypNhODMqqjk0qy05mR1vcVLNnJpRtgXJKm+JxllKtop9pPFT31582DclckF3vRqFxtGxcR5coFLfNKlZdIZJGXNiRIq+jHIHNV0flm3l151zjNADiQz7lfyWNxVrxhppNWv4M/XGEAucmqbdAbhXgQ4fyq2fsp1foopk4vSySbH57z/j8VdPWMGuffPCmdw/wBygRV4wRlkcY0v5m6bHBgzADKnDjq5uCmSlDnOaciulbAYe0Df/rhTYpW1fZ74mMAf3U3JhRICvwLkPvUMnxwRVtSFzKSI5+mUuCh9npNg537VzC3EPh7CVAA6GvmUCyeKxCd7OVfGE05Y4EUZmA6Sej7joe1EHzpy4nUZgtDZYjt8IOF64Hl2nNoFutF91h7uJrpJOvbGnTaFxwb3X9cu4sjO2W47ApFcyFwTnZqk4aGjYPCkjTyXGLDpmXxPHHHyYvc+QvAMhkCnokHrMGW4uWMcYyFzea7b+vL3begdda/nbgcg7eyd+5lclhXawK9tUp33D6olh5yBnrzymCHt7kBUO2+INVYXjxNi6ok7aDfXO3gnbFT1CyVto4RAIJeYCsYRhzoCCUcP5MbLeNWb8krqtp0LuuJo1/JLAratlUopcXR+bev63CvKnRlOOv0TffSyLqtIylK9dl/y83snTYgAM1PqdDzGvgzp2mTlXKuMGLWOD/V521HrmGHlTUjnGuPutW4LsHHLn+i7lopWhiKwk8treyHuAKzrjOmo4QKq9l1hqJtHRGyvdj6WvP8WjrKApYTJjrN0yl0u/aML3ifJhTfCSADBVkkDC+y/pXKe2JdtLWQJJXIJAwMnRNe2RC6OAWWMUW+wV5SHBdgv+KanPKtuux6BkLkgIEgiaYdQnIqV7FdBIOKGaxbYz30n4tOfXcxOTHF0P0cuUQ6Vn7etksZOhGiD+0VDBMtVOXtZnVwIXpJ8ood0WlDl0CHnmysbOKTV/SoxconOTbANo3Cazcxqbhj9WqZDWOYNI5Un7h3DizKX17puOPHyV+WEKUhH5uJ0ZtiUyQOmKYtbpM5IbQ+YFnJJ4m+vF/16bRwauYzp2Qq5pKNacCoLsjEqfKkUcW0JMpAd252w9U5EO1B75jKUXBQCjORC15DAj6DnrnfNPsnwfbH4j63x+AhRBr4LwgfsE9W7oK1vFtlALj6wIRXWRqJvBuiwbdAxMzImnU9cuIXWJCKRjnnNHPGTdtJvSSv1WjMXkVy8TD9tTsmFXwX0gxIlyR1NERt/zhFXst6UHr8+BsG+dHDdtbafTgQYueyLYzhVYL/G5h3oug70SO9zEToNLt7S9YwE572D0/NpB4sjOpQJdbN60GF2YqB+hQp7lkHbQDnY2eO5x7Y+4/07yzNtP67VseNJNgLnBNLZ4c3bVO6v6nBHc1HAgpB1cz0rmCGQkwsvEgJPDwZexfYNgRoCs049ZtWrhueM5wm5xFENRy1QGEeRdLSc0RTT6VYIwKBFA20G5WfUaQZcDupAyAXT2DjfDAu5swXBQWOt2lwI8DWaz2oHg6tl5yN9QMhlvzOUzscL8+KRSpisX0Xgta1TvC7CFnGviMCEXK5owGQaAkUE3JqeZQxFjG560sjlpo4ztQ2B2REwcpndQ6afIXBTBIxcbuo4U9sQmB0BI5fZPWT6GQI3RcDI5aaOM7UNgdkRMHKZ3UOmnyFwUwT+AbiQAlE99dl5AAAAAElFTkSuQmCC)\n",
        "\n",
        "where:\n",
        "\n",
        "* x(t) -- input to RNN at time step t.\n",
        "* h(t) -- hidden state at time t, based on current input x(t) and previous time step hidden state h(t-1). This is passed through a non-linearity such as tanh.\n",
        "* o(t) -- output of the network at time step t.\n",
        "* $\\hat{y}(t)$ -- prediction of network at time step t.\n",
        "\n",
        "Loss L is negative log likelihood of true target y(t) given input so far. Loss for sequence is sum of loss over all time steps.\n"
      ]
    },
    {
      "cell_type": "code",
      "metadata": {
        "id": "fPMqyGyMsSwI"
      },
      "source": [
        "import warnings\n",
        "warnings.filterwarnings(\"ignore\")"
      ],
      "execution_count": 1,
      "outputs": []
    },
    {
      "cell_type": "code",
      "metadata": {
        "id": "SNa_CHWLedW9"
      },
      "source": [
        "import matplotlib.pyplot as plt\n",
        "import numpy as np\n",
        "\n",
        "import tensorflow as tf\n",
        "import tensorflow.keras as keras\n",
        "\n",
        "%matplotlib inline"
      ],
      "execution_count": 2,
      "outputs": []
    },
    {
      "cell_type": "markdown",
      "metadata": {
        "id": "DdWYoUSSxWiZ"
      },
      "source": [
        "## RNN Example\n",
        "\n",
        "In this example, we will train a sentiment classifier using the IMDB data built into `tf.keras.datasets`.\n",
        "\n",
        "Input to the network would be a sequence of tokens, or more correctly, indexes of the tokens in the corpus vocabulary.\n",
        "\n",
        "Predictions (and labels) for each input sequence is either a 0 (negative sentiment) or 1 (positive sentiment).\n"
      ]
    },
    {
      "cell_type": "markdown",
      "metadata": {
        "id": "oSC1Lwnst7x6"
      },
      "source": [
        "### Data\n",
        "\n",
        "The IMDB dataset is a set of movie reviews labeled with positive or negative sentiment.\n",
        "\n",
        "The dataset has already parsed through the text, extracted the vocabulary, and converted each review document into a sequence of integers, that are indexes into the vocabulary.\n",
        "\n",
        "The Xtrain and Xtest are jagged lists. Each element of Xtrain and Xtest is a list of integers, where the integers are the indices in the word index (in `get_word_index`).\n",
        "\n",
        "The ytrain and ytest are just 0 or 1.\n",
        "\n",
        "### Decisions about data\n",
        "\n",
        "* The full vocabulary contains 88,584 words, but in order to keep our model small, we will use the most frequent 20,000 only.\n",
        "* Words that are less frequent will be replaced by the OOV character (indicated by 2).\n",
        "* Usually, we would choose a maximum sequence length (number of tokens) that would balance the model size with input data coverage, but here we will set it to 128.\n",
        "* Added advantage of this is that shorter sequences are left-padded with zeros (the PAD character) automatically.\n",
        "* The `get_word_index` does not have a concept of `start_char`, so we need to handle it ourself.\n",
        "\n"
      ]
    },
    {
      "cell_type": "code",
      "metadata": {
        "id": "PqOtdtlZTpWw",
        "outputId": "db0aca6d-f24b-4c49-fd9b-ba4d53ba047e",
        "colab": {
          "base_uri": "https://localhost:8080/",
          "height": 68
        }
      },
      "source": [
        "word_index = keras.datasets.imdb.get_word_index()\n",
        "len(word_index)"
      ],
      "execution_count": 3,
      "outputs": [
        {
          "output_type": "stream",
          "text": [
            "Downloading data from https://storage.googleapis.com/tensorflow/tf-keras-datasets/imdb_word_index.json\n",
            "1646592/1641221 [==============================] - 0s 0us/step\n"
          ],
          "name": "stdout"
        },
        {
          "output_type": "execute_result",
          "data": {
            "text/plain": [
              "88584"
            ]
          },
          "metadata": {
            "tags": []
          },
          "execution_count": 3
        }
      ]
    },
    {
      "cell_type": "code",
      "metadata": {
        "id": "KN39zDX3o6Ii",
        "outputId": "ec8e146c-9b53-453f-8a9f-155f26dc7537",
        "colab": {
          "base_uri": "https://localhost:8080/",
          "height": 68
        }
      },
      "source": [
        "MAX_SEQUENCE_LENGTH = 128\n",
        "\n",
        "(Xtrain, ytrain), (Xtest, ytest) = keras.datasets.imdb.load_data(\n",
        "    num_words=20000, oov_char=1, index_from=2, maxlen=MAX_SEQUENCE_LENGTH)\n",
        "\n",
        "# converts the text from list of list of tokens to 2D array\n",
        "Xtrain = keras.preprocessing.sequence.pad_sequences(Xtrain, maxlen=MAX_SEQUENCE_LENGTH)\n",
        "Xtest = keras.preprocessing.sequence.pad_sequences(Xtest, maxlen=MAX_SEQUENCE_LENGTH)\n",
        "\n",
        "ytrain = ytrain.reshape(-1, 1)\n",
        "ytest = ytest.reshape(-1, 1)\n",
        "\n",
        "Xtrain.shape, ytrain.shape, Xtest.shape, ytest.shape"
      ],
      "execution_count": 4,
      "outputs": [
        {
          "output_type": "stream",
          "text": [
            "Downloading data from https://storage.googleapis.com/tensorflow/tf-keras-datasets/imdb.npz\n",
            "17465344/17464789 [==============================] - 0s 0us/step\n"
          ],
          "name": "stdout"
        },
        {
          "output_type": "execute_result",
          "data": {
            "text/plain": [
              "((5833, 128), (5833, 1), (6228, 128), (6228, 1))"
            ]
          },
          "metadata": {
            "tags": []
          },
          "execution_count": 4
        }
      ]
    },
    {
      "cell_type": "code",
      "metadata": {
        "id": "iqK32kEJVWFD",
        "outputId": "9678b9b4-1c0f-4463-c852-ade2445df5fd",
        "colab": {
          "base_uri": "https://localhost:8080/",
          "height": 34
        }
      },
      "source": [
        "idx2word = {v+1:k for k, v in word_index.items() if v <= 20000}\n",
        "idx2word[0] = \"__PAD__\"\n",
        "idx2word[1] = \"__OOV__\"\n",
        "word2idx = {v:k for k, v in idx2word.items()}\n",
        "\n",
        "len(word_index), len(idx2word), len(word2idx)"
      ],
      "execution_count": 5,
      "outputs": [
        {
          "output_type": "execute_result",
          "data": {
            "text/plain": [
              "(88584, 20002, 20002)"
            ]
          },
          "metadata": {
            "tags": []
          },
          "execution_count": 5
        }
      ]
    },
    {
      "cell_type": "code",
      "metadata": {
        "id": "Y-t3potmqCtN",
        "outputId": "a9687535-41c9-41a9-d584-b14304270804",
        "colab": {
          "base_uri": "https://localhost:8080/",
          "height": 154
        }
      },
      "source": [
        "# recreating the first document by vocabulary lookup\n",
        "\" \".join([idx2word[i] for i in Xtrain[0]])"
      ],
      "execution_count": 6,
      "outputs": [
        {
          "output_type": "execute_result",
          "data": {
            "application/vnd.google.colaboratory.intrinsic+json": {
              "type": "string"
            },
            "text/plain": [
              "'__PAD__ __PAD__ __PAD__ __PAD__ __PAD__ __PAD__ __PAD__ __PAD__ __PAD__ __PAD__ __PAD__ __PAD__ __PAD__ __PAD__ __PAD__ __PAD__ __PAD__ __PAD__ __PAD__ __PAD__ __PAD__ __PAD__ __PAD__ __PAD__ __PAD__ __PAD__ __PAD__ __PAD__ __PAD__ __PAD__ __PAD__ __PAD__ __PAD__ __PAD__ __PAD__ __PAD__ __PAD__ __PAD__ __PAD__ __PAD__ __PAD__ __PAD__ __PAD__ __PAD__ __PAD__ __PAD__ __PAD__ __PAD__ __PAD__ __PAD__ __PAD__ __PAD__ __PAD__ __PAD__ __PAD__ __PAD__ __PAD__ __PAD__ __PAD__ __PAD__ __PAD__ __PAD__ __PAD__ __PAD__ __PAD__ __PAD__ __PAD__ __PAD__ __PAD__ __PAD__ __PAD__ __PAD__ __PAD__ __PAD__ __PAD__ __PAD__ __PAD__ __PAD__ __PAD__ __PAD__ __PAD__ __PAD__ __PAD__ __PAD__ __PAD__ __OOV__ actual your we i english nothing was and surprising plug office __OOV__ at first work out her watching go did shots huge in in vampire again and theater __OOV__ as joey is and bit really i about better you kessler in in'"
            ]
          },
          "metadata": {
            "tags": []
          },
          "execution_count": 6
        }
      ]
    },
    {
      "cell_type": "markdown",
      "metadata": {
        "id": "qpq1Oj4MxNIg"
      },
      "source": [
        "## Model 1: basic RNN (LSTM)\n",
        "\n",
        "We send in our sequence through an embedding layer, which projects the sparse vocabulary input vector indicated by the sequence of token_ids into a dense embedding space __which is learned during training__.\n",
        "\n",
        "Each token is converted into a dense vector via the `Embedding` layer, which is fed into a bidirectional LSTM, one LSTM reading left to right and the other reading right to left.\n",
        "\n",
        "LSTM is an advanced version of RNN, which helps to combat the __vanishing gradient__ or \"forgetting\" problem of standard RNNs.\n",
        "\n",
        "A bidirectional LSTM is really two LSTMs, one reading the input sequence left to right, and the other reading it right to left. Keras allows you to declare this using a `Bidirectional` layer wrapper.\n",
        "\n",
        "The output of the LSTM can be a sequence if `return_sequences=True` or a single \"context vector\" if `return_sequences=False` (default).\n",
        "\n",
        "The single context vector is fed into a `Dense` layer with a 1-unit output, which operates as a Binary classifier.\n",
        "\n",
        "Because we are doing binary classifier, our loss function is `binary_crossentropy`.\n",
        "\n",
        "We train this for 5 epochs, with 20% of the training data set aside for end-of-epoch validation."
      ]
    },
    {
      "cell_type": "code",
      "metadata": {
        "id": "070nX7-ZwWfK",
        "outputId": "0f2db0da-59bd-48a0-e9bd-dc5fe85587b7",
        "colab": {
          "base_uri": "https://localhost:8080/",
          "height": 289
        }
      },
      "source": [
        "def build_model_1():\n",
        "  inputs = keras.Input(shape=(MAX_SEQUENCE_LENGTH,), dtype=\"int32\")\n",
        "  # project input from vocab id to 300d embedding space, specify input length\n",
        "  x = keras.layers.Embedding(len(word2idx), 300, \n",
        "                             input_length=MAX_SEQUENCE_LENGTH,\n",
        "                             mask_zero=True)(inputs)\n",
        "  # embedding vector for each input token feeds into Bidirectional LSTM of\n",
        "  # hidden size 64 (since bidirectional 64*2 = 128)\n",
        "  x = keras.layers.Bidirectional(keras.layers.LSTM(64))(x)\n",
        "  # context vector from LSTM (return_sequences=False) into Dense binary classifier\n",
        "  outputs = keras.layers.Dense(1, activation=\"sigmoid\")(x)\n",
        "\n",
        "  model = keras.models.Model(inputs, outputs)\n",
        "\n",
        "  model.compile(loss=\"binary_crossentropy\", optimizer=\"adam\", metrics=[\"accuracy\"])\n",
        "\n",
        "  return model\n",
        "\n",
        "\n",
        "model_1 = build_model_1()\n",
        "model_1.summary()"
      ],
      "execution_count": 7,
      "outputs": [
        {
          "output_type": "stream",
          "text": [
            "Model: \"functional_1\"\n",
            "_________________________________________________________________\n",
            "Layer (type)                 Output Shape              Param #   \n",
            "=================================================================\n",
            "input_1 (InputLayer)         [(None, 128)]             0         \n",
            "_________________________________________________________________\n",
            "embedding (Embedding)        (None, 128, 300)          6000600   \n",
            "_________________________________________________________________\n",
            "bidirectional (Bidirectional (None, 128)               186880    \n",
            "_________________________________________________________________\n",
            "dense (Dense)                (None, 1)                 129       \n",
            "=================================================================\n",
            "Total params: 6,187,609\n",
            "Trainable params: 6,187,609\n",
            "Non-trainable params: 0\n",
            "_________________________________________________________________\n"
          ],
          "name": "stdout"
        }
      ]
    },
    {
      "cell_type": "code",
      "metadata": {
        "id": "Whe-V3kQ1UEK",
        "outputId": "925b3caf-bcc2-4cd9-8080-731836435b64",
        "colab": {
          "base_uri": "https://localhost:8080/",
          "height": 275
        }
      },
      "source": [
        "early_stopping = keras.callbacks.EarlyStopping(monitor=\"val_loss\")\n",
        "model_checkpoint = keras.callbacks.ModelCheckpoint(\"/tmp/model_1\", \n",
        "                                                   monitor=\"val_loss\", \n",
        "                                                   save_best_only=True)\n",
        "history_1 = model_1.fit(Xtrain, ytrain, batch_size=32, epochs=5, \n",
        "                        validation_split=0.2,\n",
        "                        callbacks=[early_stopping, model_checkpoint])"
      ],
      "execution_count": 8,
      "outputs": [
        {
          "output_type": "stream",
          "text": [
            "Epoch 1/5\n",
            "146/146 [==============================] - ETA: 0s - loss: 0.4665 - accuracy: 0.7606WARNING:tensorflow:From /usr/local/lib/python3.6/dist-packages/tensorflow/python/training/tracking/tracking.py:111: Model.state_updates (from tensorflow.python.keras.engine.training) is deprecated and will be removed in a future version.\n",
            "Instructions for updating:\n",
            "This property should not be used in TensorFlow 2.0, as updates are applied automatically.\n",
            "WARNING:tensorflow:From /usr/local/lib/python3.6/dist-packages/tensorflow/python/training/tracking/tracking.py:111: Layer.updates (from tensorflow.python.keras.engine.base_layer) is deprecated and will be removed in a future version.\n",
            "Instructions for updating:\n",
            "This property should not be used in TensorFlow 2.0, as updates are applied automatically.\n",
            "INFO:tensorflow:Assets written to: /tmp/model_1/assets\n",
            "146/146 [==============================] - 107s 735ms/step - loss: 0.4665 - accuracy: 0.7606 - val_loss: 0.3259 - val_accuracy: 0.8655\n",
            "Epoch 2/5\n",
            "146/146 [==============================] - ETA: 0s - loss: 0.1532 - accuracy: 0.9453INFO:tensorflow:Assets written to: /tmp/model_1/assets\n",
            "146/146 [==============================] - 106s 725ms/step - loss: 0.1532 - accuracy: 0.9453 - val_loss: 0.3218 - val_accuracy: 0.8689\n",
            "Epoch 3/5\n",
            "146/146 [==============================] - 87s 594ms/step - loss: 0.0388 - accuracy: 0.9886 - val_loss: 0.5266 - val_accuracy: 0.8560\n"
          ],
          "name": "stdout"
        }
      ]
    },
    {
      "cell_type": "code",
      "metadata": {
        "id": "BDtSxubJ1vMm",
        "outputId": "d4644b10-48ab-4386-c0d6-e79085a3d541",
        "colab": {
          "base_uri": "https://localhost:8080/",
          "height": 369
        }
      },
      "source": [
        "def plot_training_curves(history):\n",
        "  plt.figure(figsize=(10, 5))\n",
        "\n",
        "  plt.subplot(1, 2, 1)\n",
        "  plt.plot(history.history[\"loss\"], label=\"train\")\n",
        "  plt.plot(history.history[\"val_loss\"], label=\"validation\")\n",
        "  plt.xlabel(\"epochs\")\n",
        "  plt.ylabel(\"loss\")\n",
        "  plt.legend(loc=\"best\")\n",
        "\n",
        "  plt.subplot(1, 2, 2)  \n",
        "  plt.plot(history.history[\"accuracy\"], label=\"train\")\n",
        "  plt.plot(history.history[\"val_accuracy\"], label=\"validation\")\n",
        "  plt.xlabel(\"epochs\")\n",
        "  plt.ylabel(\"accuracy\")\n",
        "  plt.legend(loc=\"best\")\n",
        "\n",
        "\n",
        "  plt.tight_layout()\n",
        "  _ = plt.show()\n",
        "\n",
        "\n",
        "plot_training_curves(history_1)"
      ],
      "execution_count": 9,
      "outputs": [
        {
          "output_type": "display_data",
          "data": {
            "image/png": "[encoded data removed]",
            "text/plain": [
              "<Figure size 720x360 with 2 Axes>"
            ]
          },
          "metadata": {
            "tags": [],
            "needs_background": "light"
          }
        }
      ]
    },
    {
      "cell_type": "code",
      "metadata": {
        "id": "wznpPHav6AK9",
        "outputId": "67c1a696-1f8e-44ee-b58d-515b8c44008c",
        "colab": {
          "base_uri": "https://localhost:8080/",
          "height": 51
        }
      },
      "source": [
        "model_1s = keras.models.load_model(\"/tmp/model_1\")\n",
        "scores_1 = model_1s.evaluate(Xtest, ytest)\n",
        "print(\"Test loss: {:.3f}, accuracy: {:.3f}\".format(scores_1[0], scores_1[1]))"
      ],
      "execution_count": 10,
      "outputs": [
        {
          "output_type": "stream",
          "text": [
            "195/195 [==============================] - 14s 69ms/step - loss: 0.3313 - accuracy: 0.8576\n",
            "Test loss: 0.331, accuracy: 0.858\n"
          ],
          "name": "stdout"
        }
      ]
    },
    {
      "cell_type": "markdown",
      "metadata": {
        "id": "ihXI7Do66rQ4"
      },
      "source": [
        "## Word Embeddings\n",
        "\n",
        "Word embeddings project words into a geometric hyperspace where semantically similar words are close to each other.\n",
        "\n",
        "One way to build word embeddings is the skip-gram network, used by [Word2Vec](https://en.wikipedia.org/wiki/Word2vec), where the objective is to predict if a pair of words co-occur together within a short span of each other.\n",
        "\n",
        "Labeled data is plentiful for this, since we can use the words in sentences from readily available texts.\n",
        "\n",
        "Another way to build these embeddings is to factorize a word co-occurrence matrix built from a large corpus of text, which is the approach used by [Global Vectors for Word Representation (GloVe)](https://nlp.stanford.edu/projects/glove/).\n",
        "\n",
        "In the next example, we will show how to initialize the embedding matrix with GloVe vectors instead of random vectors.\n",
        "\n",
        "The intuition here is that our network will benefit from the additional knowledge about word semantics that the GloVe vectors have learned during their training.\n",
        "\n",
        "We populate the weight matrix of the `Embedding` layer, that would ordinarily be populated with some initialization technique, with weights from the pre-trained GloVe vectors.\n",
        "\n",
        "`Embedding` layer's weight matrix projects the sparse vector representing a token in 1-hot encoded vocabulary space to a dense vector of smaller dimensions (300 in our case).\n",
        "\n",
        "Idea is to create a `(vocab_size, 300)` vector where each row represents the GloVe vector for the word referenced by that id in the vocabulary.\n",
        "\n",
        "This is a primitive form of Transfer Learning that was popular pre-2019 in NLP."
      ]
    },
    {
      "cell_type": "code",
      "metadata": {
        "id": "T6npmCSC-fLU",
        "outputId": "0286ada3-dee5-4224-f514-c0d32e167860",
        "colab": {
          "base_uri": "https://localhost:8080/",
          "height": 119
        }
      },
      "source": [
        "%%bash\n",
        "(\n",
        "  if [ ! -f glove.6B.300d.txt ]; then\n",
        "    echo \"Downloading glove...\"\n",
        "    wget --quiet http://nlp.stanford.edu/data/glove.6B.zip\n",
        "    unzip -a glove.6B.zip\n",
        "    rm glove.6B.zip glove.6B.50d.txt glove.6B.100d.txt glove.6B.200d.txt\n",
        "  fi\n",
        ")"
      ],
      "execution_count": 11,
      "outputs": [
        {
          "output_type": "stream",
          "text": [
            "Downloading glove...\n",
            "Archive:  glove.6B.zip\n",
            "  inflating: glove.6B.50d.txt        [text]  \n",
            "  inflating: glove.6B.100d.txt       [text]  \n",
            "  inflating: glove.6B.200d.txt       [text]  \n",
            "  inflating: glove.6B.300d.txt       [text]  \n"
          ],
          "name": "stdout"
        }
      ]
    },
    {
      "cell_type": "code",
      "metadata": {
        "id": "zrcyFr6Q-sAE",
        "outputId": "d77f9579-8d47-4149-ee0c-f0e08f47ce29",
        "colab": {
          "base_uri": "https://localhost:8080/",
          "height": 34
        }
      },
      "source": [
        "embedding_matrix = np.zeros((len(word2idx), 300))\n",
        "with open(\"glove.6B.300d.txt\", \"r\") as f:\n",
        "  for line in f:\n",
        "    cols = line.strip().split()\n",
        "    word = cols[0]\n",
        "    try:\n",
        "      word_id = word2idx[word]\n",
        "      word_vector = np.array([float(v) for v in cols[1:]])\n",
        "      embedding_matrix[word_id] = word_vector\n",
        "    except KeyError:\n",
        "      continue\n",
        "\n",
        "embedding_matrix.shape"
      ],
      "execution_count": 12,
      "outputs": [
        {
          "output_type": "execute_result",
          "data": {
            "text/plain": [
              "(20002, 300)"
            ]
          },
          "metadata": {
            "tags": []
          },
          "execution_count": 12
        }
      ]
    },
    {
      "cell_type": "code",
      "metadata": {
        "id": "BaWUoIh9ASEV",
        "outputId": "5fa1f87d-6348-4d21-852f-93bbb64135ef",
        "colab": {
          "base_uri": "https://localhost:8080/",
          "height": 289
        }
      },
      "source": [
        "def build_model_2():\n",
        "  inputs = keras.Input(shape=(MAX_SEQUENCE_LENGTH,), dtype=\"int32\")\n",
        "  # project input from vocab id to 300d embedding space, specify input length\n",
        "  x = keras.layers.Embedding(len(word2idx), 300, \n",
        "                             input_length=MAX_SEQUENCE_LENGTH,\n",
        "                             weights=[embedding_matrix],\n",
        "                             mask_zero=True)(inputs)\n",
        "  # embedding vector for each input token feeds into Bidirectional LSTM of\n",
        "  # hidden size 64 (since bidirectional 64*2 = 128)\n",
        "  x = keras.layers.Bidirectional(keras.layers.LSTM(64))(x)\n",
        "  # context vector from LSTM (return_sequences=False) into Dense binary classifier\n",
        "  outputs = keras.layers.Dense(1, activation=\"sigmoid\")(x)\n",
        "\n",
        "  model = keras.models.Model(inputs, outputs)\n",
        "\n",
        "  model.compile(loss=\"binary_crossentropy\", optimizer=\"adam\", metrics=[\"accuracy\"])\n",
        "\n",
        "  return model\n",
        "\n",
        "\n",
        "model_2 = build_model_2()\n",
        "model_2.summary()"
      ],
      "execution_count": 13,
      "outputs": [
        {
          "output_type": "stream",
          "text": [
            "Model: \"functional_3\"\n",
            "_________________________________________________________________\n",
            "Layer (type)                 Output Shape              Param #   \n",
            "=================================================================\n",
            "input_2 (InputLayer)         [(None, 128)]             0         \n",
            "_________________________________________________________________\n",
            "embedding_1 (Embedding)      (None, 128, 300)          6000600   \n",
            "_________________________________________________________________\n",
            "bidirectional_1 (Bidirection (None, 128)               186880    \n",
            "_________________________________________________________________\n",
            "dense_1 (Dense)              (None, 1)                 129       \n",
            "=================================================================\n",
            "Total params: 6,187,609\n",
            "Trainable params: 6,187,609\n",
            "Non-trainable params: 0\n",
            "_________________________________________________________________\n"
          ],
          "name": "stdout"
        }
      ]
    },
    {
      "cell_type": "code",
      "metadata": {
        "id": "pqwGYxmGCqA5",
        "outputId": "e42e2ec3-3957-42d9-8e4f-87784e732349",
        "colab": {
          "base_uri": "https://localhost:8080/",
          "height": 173
        }
      },
      "source": [
        "early_stopping = keras.callbacks.EarlyStopping(monitor=\"val_loss\")\n",
        "model_checkpoint = keras.callbacks.ModelCheckpoint(\"/tmp/model_2\", \n",
        "                                                   monitor=\"val_loss\", \n",
        "                                                   save_best_only=True)\n",
        "history_2 = model_2.fit(Xtrain, ytrain, batch_size=32, epochs=5, \n",
        "                        validation_split=0.2,\n",
        "                        callbacks=[early_stopping, model_checkpoint])"
      ],
      "execution_count": 14,
      "outputs": [
        {
          "output_type": "stream",
          "text": [
            "Epoch 1/5\n",
            "146/146 [==============================] - ETA: 0s - loss: 0.6295 - accuracy: 0.6434INFO:tensorflow:Assets written to: /tmp/model_2/assets\n",
            "146/146 [==============================] - 107s 734ms/step - loss: 0.6295 - accuracy: 0.6434 - val_loss: 0.4475 - val_accuracy: 0.8021\n",
            "Epoch 2/5\n",
            "146/146 [==============================] - ETA: 0s - loss: 0.3205 - accuracy: 0.8680INFO:tensorflow:Assets written to: /tmp/model_2/assets\n",
            "146/146 [==============================] - 105s 720ms/step - loss: 0.3205 - accuracy: 0.8680 - val_loss: 0.3776 - val_accuracy: 0.8338\n",
            "Epoch 3/5\n",
            "146/146 [==============================] - 87s 594ms/step - loss: 0.1079 - accuracy: 0.9623 - val_loss: 0.3783 - val_accuracy: 0.8518\n"
          ],
          "name": "stdout"
        }
      ]
    },
    {
      "cell_type": "code",
      "metadata": {
        "id": "iwE7LpBTDKLY",
        "outputId": "feb6ff96-bee0-49c6-82a6-fd234056592f",
        "colab": {
          "base_uri": "https://localhost:8080/",
          "height": 51
        }
      },
      "source": [
        "model_2s = keras.models.load_model(\"/tmp/model_2\")\n",
        "scores_2 = model_2s.evaluate(Xtest, ytest)\n",
        "print(\"Test loss: {:.3f}, accuracy: {:.3f}\".format(scores_2[0], scores_2[1]))"
      ],
      "execution_count": 15,
      "outputs": [
        {
          "output_type": "stream",
          "text": [
            "195/195 [==============================] - 13s 69ms/step - loss: 0.3943 - accuracy: 0.8263\n",
            "Test loss: 0.394, accuracy: 0.826\n"
          ],
          "name": "stdout"
        }
      ]
    },
    {
      "cell_type": "markdown",
      "metadata": {
        "id": "Qmi6zkd7eGin"
      },
      "source": [
        "## Transformer Embeddings\n",
        "\n",
        "Post 2019, with the move towards Language Model based embeddings such as ULMFit, BERT, etc., Transfer Learning for NLP generally means using a Language Model as a source of embeddings.\n",
        "\n",
        "Embeddings from Transformers are context-sensitive (i.e., the token \"bank\" in a sentences with \"robbery\" and \"river\" have different embeddings).\n",
        "\n",
        "This is because of the self-attention mechanism in Transformers.\n",
        "\n",
        "Net effect is that we no longer need a LSTM layer to encode the sequence, the transformer embedding takes care of that, so we only need the transformer between the input sequence and our classifier head (the `Dense` layer in `model_1` and `model_2`).\n",
        "\n",
        "The sequence can be input directly into the Transformer module directly, and the output of the Transformer can be passed into a Dense layer.\n",
        "\n",
        "The [Huggingface Transformers Library](https://huggingface.co/transformers/index.html) provides a library for working with Transformers in Pytorch and Keras/Tensorflow, as well as many pre-trained Transformer models."
      ]
    },
    {
      "cell_type": "code",
      "metadata": {
        "id": "7hxtuTxAHTi8",
        "outputId": "e5c89d15-12c1-486b-fd81-eb57f2660631",
        "colab": {
          "base_uri": "https://localhost:8080/",
          "height": 649
        }
      },
      "source": [
        "!pip install transformers"
      ],
      "execution_count": 16,
      "outputs": [
        {
          "output_type": "stream",
          "text": [
            "Collecting transformers\n",
            "\u001b[?25l  Downloading https://files.pythonhosted.org/packages/2c/4e/4f1ede0fd7a36278844a277f8d53c21f88f37f3754abf76a5d6224f76d4a/transformers-3.4.0-py3-none-any.whl (1.3MB)\n",
            "\r\u001b[K     |▎                               | 10kB 17.7MB/s eta 0:00:01\r\u001b[K     |▌                               | 20kB 22.2MB/s eta 0:00:01\r\u001b[K     |▉                               | 30kB 25.5MB/s eta 0:00:01\r\u001b[K     |█                               | 40kB 20.3MB/s eta 0:00:01\r\u001b[K     |█▎                              | 51kB 14.3MB/s eta 0:00:01\r\u001b[K     |█▋                              | 61kB 12.6MB/s eta 0:00:01\r\u001b[K     |█▉                              | 71kB 11.6MB/s eta 0:00:01\r\u001b[K     |██                              | 81kB 11.6MB/s eta 0:00:01\r\u001b[K     |██▍                             | 92kB 11.3MB/s eta 0:00:01\r\u001b[K     |██▋                             | 102kB 11.4MB/s eta 0:00:01\r\u001b[K     |██▉                             | 112kB 11.4MB/s eta 0:00:01\r\u001b[K     |███▏                            | 122kB 11.4MB/s eta 0:00:01\r\u001b[K     |███▍                            | 133kB 11.4MB/s eta 0:00:01\r\u001b[K     |███▋                            | 143kB 11.4MB/s eta 0:00:01\r\u001b[K     |████                            | 153kB 11.4MB/s eta 0:00:01\r\u001b[K     |████▏                           | 163kB 11.4MB/s eta 0:00:01\r\u001b[K     |████▍                           | 174kB 11.4MB/s eta 0:00:01\r\u001b[K     |████▊                           | 184kB 11.4MB/s eta 0:00:01\r\u001b[K     |█████                           | 194kB 11.4MB/s eta 0:00:01\r\u001b[K     |█████▏                          | 204kB 11.4MB/s eta 0:00:01\r\u001b[K     |█████▌                          | 215kB 11.4MB/s eta 0:00:01\r\u001b[K     |█████▊                          | 225kB 11.4MB/s eta 0:00:01\r\u001b[K     |██████                          | 235kB 11.4MB/s eta 0:00:01\r\u001b[K     |██████▎                         | 245kB 11.4MB/s eta 0:00:01\r\u001b[K     |██████▌                         | 256kB 11.4MB/s eta 0:00:01\r\u001b[K     |██████▊                         | 266kB 11.4MB/s eta 0:00:01\r\u001b[K     |███████                         | 276kB 11.4MB/s eta 0:00:01\r\u001b[K     |███████▎                        | 286kB 11.4MB/s eta 0:00:01\r\u001b[K     |███████▋                        | 296kB 11.4MB/s eta 0:00:01\r\u001b[K     |███████▉                        | 307kB 11.4MB/s eta 0:00:01\r\u001b[K     |████████                        | 317kB 11.4MB/s eta 0:00:01\r\u001b[K     |████████▍                       | 327kB 11.4MB/s eta 0:00:01\r\u001b[K     |████████▋                       | 337kB 11.4MB/s eta 0:00:01\r\u001b[K     |████████▉                       | 348kB 11.4MB/s eta 0:00:01\r\u001b[K     |█████████▏                      | 358kB 11.4MB/s eta 0:00:01\r\u001b[K     |█████████▍                      | 368kB 11.4MB/s eta 0:00:01\r\u001b[K     |█████████▋                      | 378kB 11.4MB/s eta 0:00:01\r\u001b[K     |██████████                      | 389kB 11.4MB/s eta 0:00:01\r\u001b[K     |██████████▏                     | 399kB 11.4MB/s eta 0:00:01\r\u001b[K     |██████████▍                     | 409kB 11.4MB/s eta 0:00:01\r\u001b[K     |██████████▊                     | 419kB 11.4MB/s eta 0:00:01\r\u001b[K     |███████████                     | 430kB 11.4MB/s eta 0:00:01\r\u001b[K     |███████████▏                    | 440kB 11.4MB/s eta 0:00:01\r\u001b[K     |███████████▌                    | 450kB 11.4MB/s eta 0:00:01\r\u001b[K     |███████████▊                    | 460kB 11.4MB/s eta 0:00:01\r\u001b[K     |████████████                    | 471kB 11.4MB/s eta 0:00:01\r\u001b[K     |████████████▎                   | 481kB 11.4MB/s eta 0:00:01\r\u001b[K     |████████████▌                   | 491kB 11.4MB/s eta 0:00:01\r\u001b[K     |████████████▊                   | 501kB 11.4MB/s eta 0:00:01\r\u001b[K     |█████████████                   | 512kB 11.4MB/s eta 0:00:01\r\u001b[K     |█████████████▎                  | 522kB 11.4MB/s eta 0:00:01\r\u001b[K     |█████████████▌                  | 532kB 11.4MB/s eta 0:00:01\r\u001b[K     |█████████████▉                  | 542kB 11.4MB/s eta 0:00:01\r\u001b[K     |██████████████                  | 552kB 11.4MB/s eta 0:00:01\r\u001b[K     |██████████████▍                 | 563kB 11.4MB/s eta 0:00:01\r\u001b[K     |██████████████▋                 | 573kB 11.4MB/s eta 0:00:01\r\u001b[K     |██████████████▉                 | 583kB 11.4MB/s eta 0:00:01\r\u001b[K     |███████████████▏                | 593kB 11.4MB/s eta 0:00:01\r\u001b[K     |███████████████▍                | 604kB 11.4MB/s eta 0:00:01\r\u001b[K     |███████████████▋                | 614kB 11.4MB/s eta 0:00:01\r\u001b[K     |████████████████                | 624kB 11.4MB/s eta 0:00:01\r\u001b[K     |████████████████▏               | 634kB 11.4MB/s eta 0:00:01\r\u001b[K     |████████████████▍               | 645kB 11.4MB/s eta 0:00:01\r\u001b[K     |████████████████▊               | 655kB 11.4MB/s eta 0:00:01\r\u001b[K     |█████████████████               | 665kB 11.4MB/s eta 0:00:01\r\u001b[K     |█████████████████▏              | 675kB 11.4MB/s eta 0:00:01\r\u001b[K     |█████████████████▌              | 686kB 11.4MB/s eta 0:00:01\r\u001b[K     |█████████████████▊              | 696kB 11.4MB/s eta 0:00:01\r\u001b[K     |██████████████████              | 706kB 11.4MB/s eta 0:00:01\r\u001b[K     |██████████████████▎             | 716kB 11.4MB/s eta 0:00:01\r\u001b[K     |██████████████████▌             | 727kB 11.4MB/s eta 0:00:01\r\u001b[K     |██████████████████▊             | 737kB 11.4MB/s eta 0:00:01\r\u001b[K     |███████████████████             | 747kB 11.4MB/s eta 0:00:01\r\u001b[K     |███████████████████▎            | 757kB 11.4MB/s eta 0:00:01\r\u001b[K     |███████████████████▌            | 768kB 11.4MB/s eta 0:00:01\r\u001b[K     |███████████████████▉            | 778kB 11.4MB/s eta 0:00:01\r\u001b[K     |████████████████████            | 788kB 11.4MB/s eta 0:00:01\r\u001b[K     |████████████████████▎           | 798kB 11.4MB/s eta 0:00:01\r\u001b[K     |████████████████████▋           | 808kB 11.4MB/s eta 0:00:01\r\u001b[K     |████████████████████▉           | 819kB 11.4MB/s eta 0:00:01\r\u001b[K     |█████████████████████           | 829kB 11.4MB/s eta 0:00:01\r\u001b[K     |█████████████████████▍          | 839kB 11.4MB/s eta 0:00:01\r\u001b[K     |█████████████████████▋          | 849kB 11.4MB/s eta 0:00:01\r\u001b[K     |██████████████████████          | 860kB 11.4MB/s eta 0:00:01\r\u001b[K     |██████████████████████▏         | 870kB 11.4MB/s eta 0:00:01\r\u001b[K     |██████████████████████▍         | 880kB 11.4MB/s eta 0:00:01\r\u001b[K     |██████████████████████▊         | 890kB 11.4MB/s eta 0:00:01\r\u001b[K     |███████████████████████         | 901kB 11.4MB/s eta 0:00:01\r\u001b[K     |███████████████████████▏        | 911kB 11.4MB/s eta 0:00:01\r\u001b[K     |███████████████████████▌        | 921kB 11.4MB/s eta 0:00:01\r\u001b[K     |███████████████████████▊        | 931kB 11.4MB/s eta 0:00:01\r\u001b[K     |████████████████████████        | 942kB 11.4MB/s eta 0:00:01\r\u001b[K     |████████████████████████▎       | 952kB 11.4MB/s eta 0:00:01\r\u001b[K     |████████████████████████▌       | 962kB 11.4MB/s eta 0:00:01\r\u001b[K     |████████████████████████▊       | 972kB 11.4MB/s eta 0:00:01\r\u001b[K     |█████████████████████████       | 983kB 11.4MB/s eta 0:00:01\r\u001b[K     |█████████████████████████▎      | 993kB 11.4MB/s eta 0:00:01\r\u001b[K     |█████████████████████████▌      | 1.0MB 11.4MB/s eta 0:00:01\r\u001b[K     |█████████████████████████▉      | 1.0MB 11.4MB/s eta 0:00:01\r\u001b[K     |██████████████████████████      | 1.0MB 11.4MB/s eta 0:00:01\r\u001b[K     |██████████████████████████▎     | 1.0MB 11.4MB/s eta 0:00:01\r\u001b[K     |██████████████████████████▋     | 1.0MB 11.4MB/s eta 0:00:01\r\u001b[K     |██████████████████████████▉     | 1.1MB 11.4MB/s eta 0:00:01\r\u001b[K     |███████████████████████████     | 1.1MB 11.4MB/s eta 0:00:01\r\u001b[K     |███████████████████████████▍    | 1.1MB 11.4MB/s eta 0:00:01\r\u001b[K     |███████████████████████████▋    | 1.1MB 11.4MB/s eta 0:00:01\r\u001b[K     |███████████████████████████▉    | 1.1MB 11.4MB/s eta 0:00:01\r\u001b[K     |████████████████████████████▏   | 1.1MB 11.4MB/s eta 0:00:01\r\u001b[K     |████████████████████████████▍   | 1.1MB 11.4MB/s eta 0:00:01\r\u001b[K     |████████████████████████████▊   | 1.1MB 11.4MB/s eta 0:00:01\r\u001b[K     |█████████████████████████████   | 1.1MB 11.4MB/s eta 0:00:01\r\u001b[K     |█████████████████████████████▏  | 1.1MB 11.4MB/s eta 0:00:01\r\u001b[K     |█████████████████████████████▌  | 1.2MB 11.4MB/s eta 0:00:01\r\u001b[K     |█████████████████████████████▊  | 1.2MB 11.4MB/s eta 0:00:01\r\u001b[K     |██████████████████████████████  | 1.2MB 11.4MB/s eta 0:00:01\r\u001b[K     |██████████████████████████████▎ | 1.2MB 11.4MB/s eta 0:00:01\r\u001b[K     |██████████████████████████████▌ | 1.2MB 11.4MB/s eta 0:00:01\r\u001b[K     |██████████████████████████████▊ | 1.2MB 11.4MB/s eta 0:00:01\r\u001b[K     |███████████████████████████████ | 1.2MB 11.4MB/s eta 0:00:01\r\u001b[K     |███████████████████████████████▎| 1.2MB 11.4MB/s eta 0:00:01\r\u001b[K     |███████████████████████████████▌| 1.2MB 11.4MB/s eta 0:00:01\r\u001b[K     |███████████████████████████████▉| 1.2MB 11.4MB/s eta 0:00:01\r\u001b[K     |████████████████████████████████| 1.3MB 11.4MB/s \n",
            "\u001b[?25hRequirement already satisfied: numpy in /usr/local/lib/python3.6/dist-packages (from transformers) (1.18.5)\n",
            "Requirement already satisfied: regex!=2019.12.17 in /usr/local/lib/python3.6/dist-packages (from transformers) (2019.12.20)\n",
            "Requirement already satisfied: tqdm>=4.27 in /usr/local/lib/python3.6/dist-packages (from transformers) (4.41.1)\n",
            "Collecting sentencepiece!=0.1.92\n",
            "\u001b[?25l  Downloading https://files.pythonhosted.org/packages/d4/a4/d0a884c4300004a78cca907a6ff9a5e9fe4f090f5d95ab341c53d28cbc58/sentencepiece-0.1.91-cp36-cp36m-manylinux1_x86_64.whl (1.1MB)\n",
            "\u001b[K     |████████████████████████████████| 1.1MB 53.7MB/s \n",
            "\u001b[?25hRequirement already satisfied: filelock in /usr/local/lib/python3.6/dist-packages (from transformers) (3.0.12)\n",
            "Requirement already satisfied: packaging in /usr/local/lib/python3.6/dist-packages (from transformers) (20.4)\n",
            "Collecting sacremoses\n",
            "\u001b[?25l  Downloading https://files.pythonhosted.org/packages/7d/34/09d19aff26edcc8eb2a01bed8e98f13a1537005d31e95233fd48216eed10/sacremoses-0.0.43.tar.gz (883kB)\n",
            "\u001b[K     |████████████████████████████████| 890kB 54.5MB/s \n",
            "\u001b[?25hRequirement already satisfied: dataclasses; python_version < \"3.7\" in /usr/local/lib/python3.6/dist-packages (from transformers) (0.7)\n",
            "Collecting tokenizers==0.9.2\n",
            "\u001b[?25l  Downloading https://files.pythonhosted.org/packages/7c/a5/78be1a55b2ac8d6a956f0a211d372726e2b1dd2666bb537fea9b03abd62c/tokenizers-0.9.2-cp36-cp36m-manylinux1_x86_64.whl (2.9MB)\n",
            "\u001b[K     |████████████████████████████████| 2.9MB 54.9MB/s \n",
            "\u001b[?25hRequirement already satisfied: requests in /usr/local/lib/python3.6/dist-packages (from transformers) (2.23.0)\n",
            "Requirement already satisfied: protobuf in /usr/local/lib/python3.6/dist-packages (from transformers) (3.12.4)\n",
            "Requirement already satisfied: six in /usr/local/lib/python3.6/dist-packages (from packaging->transformers) (1.15.0)\n",
            "Requirement already satisfied: pyparsing>=2.0.2 in /usr/local/lib/python3.6/dist-packages (from packaging->transformers) (2.4.7)\n",
            "Requirement already satisfied: click in /usr/local/lib/python3.6/dist-packages (from sacremoses->transformers) (7.1.2)\n",
            "Requirement already satisfied: joblib in /usr/local/lib/python3.6/dist-packages (from sacremoses->transformers) (0.16.0)\n",
            "Requirement already satisfied: chardet<4,>=3.0.2 in /usr/local/lib/python3.6/dist-packages (from requests->transformers) (3.0.4)\n",
            "Requirement already satisfied: idna<3,>=2.5 in /usr/local/lib/python3.6/dist-packages (from requests->transformers) (2.10)\n",
            "Requirement already satisfied: urllib3!=1.25.0,!=1.25.1,<1.26,>=1.21.1 in /usr/local/lib/python3.6/dist-packages (from requests->transformers) (1.24.3)\n",
            "Requirement already satisfied: certifi>=2017.4.17 in /usr/local/lib/python3.6/dist-packages (from requests->transformers) (2020.6.20)\n",
            "Requirement already satisfied: setuptools in /usr/local/lib/python3.6/dist-packages (from protobuf->transformers) (50.3.0)\n",
            "Building wheels for collected packages: sacremoses\n",
            "  Building wheel for sacremoses (setup.py) ... \u001b[?25l\u001b[?25hdone\n",
            "  Created wheel for sacremoses: filename=sacremoses-0.0.43-cp36-none-any.whl size=893257 sha256=e7840e75213953f6836a839c2d0b63eb8abde1a759dccb5bed9dc6625e0460fb\n",
            "  Stored in directory: /root/.cache/pip/wheels/29/3c/fd/7ce5c3f0666dab31a50123635e6fb5e19ceb42ce38d4e58f45\n",
            "Successfully built sacremoses\n",
            "Installing collected packages: sentencepiece, sacremoses, tokenizers, transformers\n",
            "Successfully installed sacremoses-0.0.43 sentencepiece-0.1.91 tokenizers-0.9.2 transformers-3.4.0\n"
          ],
          "name": "stdout"
        }
      ]
    },
    {
      "cell_type": "code",
      "metadata": {
        "id": "vCepMB53hWzw"
      },
      "source": [
        "from transformers import TFBertModel, BertTokenizer"
      ],
      "execution_count": 17,
      "outputs": []
    },
    {
      "cell_type": "code",
      "metadata": {
        "id": "J3fwCSZflaLT",
        "outputId": "9b2e5b53-216f-4c93-94a7-982a5fa340be",
        "colab": {
          "base_uri": "https://localhost:8080/",
          "height": 100,
          "referenced_widgets": [
            "652b2e618d154b82940c066e84658c43",
            "ddcdf70fe8b242c4980f450ac82914ff",
            "db0cf86012b34c52b1ba3251cf958503",
            "7d176dd596ed48b2ac73edd18a70640f",
            "c941a525d7e84002b97915b55e87cbe6",
            "9eeeb345ef244064b827ac99c192449b",
            "a064d01718f7487e9a1b4ebf718d984b",
            "4f025b6a95414ba38e7d10b6d240cfce"
          ]
        }
      },
      "source": [
        "def get_transformer_compatible_inputs(X, tokenizer, idx2word):\n",
        "  input_ids, seg_ids, mask_ids = [], [], []\n",
        "  for i in range(X.shape[0]):\n",
        "    # we want to use the BERT vocab, so we need to map our vocab to BERTs\n",
        "    x_str = [idx2word[x] for x in X[i]]\n",
        "    # convert __PAD__ and __OOV__ to BERT equivalent\n",
        "    x_str = [(tokenizer.pad_token if x == \"__PAD__\" else x) for x in x_str]\n",
        "    x_str = [(tokenizer.unk_token if x == \"__OOV__\" else x) for x in x_str]\n",
        "    # convert back to BERT vocab ids\n",
        "    x_ids = tokenizer.convert_tokens_to_ids(x_str)\n",
        "    # now generate the input_ids, seg_ids (token_type_ids) and mask\n",
        "    input_ids.append(np.array(tokenizer.build_inputs_with_special_tokens(x_ids)))\n",
        "    mask_ids.append(np.array(tokenizer.get_special_tokens_mask(x_ids)))\n",
        "    seg_ids.append(np.array(tokenizer.create_token_type_ids_from_sequences(x_ids)))\n",
        "  return [np.array(input_ids, dtype=np.int32),\n",
        "          np.array(mask_ids, dtype=np.int32),\n",
        "          np.array(seg_ids, dtype=np.int32)]\n",
        "\n",
        "\n",
        "tokenizer = BertTokenizer.from_pretrained(\"bert-base-uncased\")\n",
        "\n",
        "Xtr_train = get_transformer_compatible_inputs(Xtrain, tokenizer, idx2word)\n",
        "print(\"train:\", Xtr_train[0].shape, Xtr_train[1].shape, Xtr_train[2].shape, ytrain.shape)\n",
        "Xtr_test = get_transformer_compatible_inputs(Xtest, tokenizer, idx2word)\n",
        "print(\"test:\", Xtr_test[0].shape, Xtr_test[1].shape, Xtr_test[2].shape, ytest.shape)"
      ],
      "execution_count": 18,
      "outputs": [
        {
          "output_type": "display_data",
          "data": {
            "application/vnd.jupyter.widget-view+json": {
              "model_id": "652b2e618d154b82940c066e84658c43",
              "version_minor": 0,
              "version_major": 2
            },
            "text/plain": [
              "HBox(children=(FloatProgress(value=0.0, description='Downloading', max=231508.0, style=ProgressStyle(descripti…"
            ]
          },
          "metadata": {
            "tags": []
          }
        },
        {
          "output_type": "stream",
          "text": [
            "\n",
            "train: (5833, 130) (5833, 130) (5833, 130) (5833, 1)\n",
            "test: (6228, 130) (6228, 130) (6228, 130) (6228, 1)\n"
          ],
          "name": "stdout"
        }
      ]
    },
    {
      "cell_type": "code",
      "metadata": {
        "id": "HewZRmuHggBr",
        "outputId": "32839c6d-9f67-4cca-92f7-f0ec3cc016a5",
        "colab": {
          "base_uri": "https://localhost:8080/",
          "height": 628,
          "referenced_widgets": [
            "8e9def359f9a48bd97a23d83f52e5313",
            "1e97d1602b1049ae8726eca35adc8d0c",
            "b3461ca1021540c98723b5f65633ae48",
            "090038fdaa0e401190b2c38aa62ff576",
            "13797aeee768470da707c5d771b26cf7",
            "b75ad2b0df9149adacc65dcbc4e45fe3",
            "916c4b3b701b434389555a3a5bfc5772",
            "0b924f6e149b4d35a53ccc247c48b19e",
            "3828d53ef4eb41588d8252aa65b7846b",
            "3bdd3ecf23a54fde9d0a170e3c90d822",
            "6b7f5ef7d63741d8b36751bfb5f0c096",
            "89d261ef2a4940df9e47ad3e72d495b2",
            "4c4e017f3bec46198d6fba567c5d180f",
            "2f997874a4f94a64b591c7d5282352d6",
            "a237725736574100b8184519f3b3729c",
            "33259bb194c24dabaac0c5242851dfd3"
          ]
        }
      },
      "source": [
        "# adding the [CLS] and [SEP] tokens to input\n",
        "MAX_SEQUENCE_LENGTH = MAX_SEQUENCE_LENGTH + 2\n",
        "\n",
        "def build_model_3():\n",
        "  # different from other build_* in that we will need to rebuild model\n",
        "  # for inference again, so removing the compile step since no training needed\n",
        "  token_inputs = keras.layers.Input((MAX_SEQUENCE_LENGTH), dtype=tf.int32, name='input_word_ids')\n",
        "  mask_inputs = keras.layers.Input((MAX_SEQUENCE_LENGTH,), dtype=tf.int32, name='input_masks')\n",
        "  seg_inputs = keras.layers.Input((MAX_SEQUENCE_LENGTH,), dtype=tf.int32, name='input_segments')\n",
        "\n",
        "  bert_model = TFBertModel.from_pretrained(\"bert-base-uncased\")\n",
        "  seq_output, _ = bert_model([token_inputs, mask_inputs, seg_inputs])\n",
        "  x = keras.layers.GlobalAveragePooling1D()(seq_output)\n",
        "  x = keras.layers.Dense(100, activation=\"relu\")(x)\n",
        "  output = keras.layers.Dense(1, activation=\"sigmoid\", name=\"output\")(x)\n",
        "  model = keras.models.Model([token_inputs, mask_inputs, seg_inputs], output)\n",
        "\n",
        "  return model\n",
        "\n",
        "\n",
        "model_3 = build_model_3()\n",
        "\n",
        "adam = keras.optimizers.Adam(lr=5e-5)\n",
        "model_3.compile(optimizer=adam, loss='binary_crossentropy')\n",
        "\n",
        "model_3.summary()"
      ],
      "execution_count": 19,
      "outputs": [
        {
          "output_type": "display_data",
          "data": {
            "application/vnd.jupyter.widget-view+json": {
              "model_id": "8e9def359f9a48bd97a23d83f52e5313",
              "version_minor": 0,
              "version_major": 2
            },
            "text/plain": [
              "HBox(children=(FloatProgress(value=0.0, description='Downloading', max=433.0, style=ProgressStyle(description_…"
            ]
          },
          "metadata": {
            "tags": []
          }
        },
        {
          "output_type": "stream",
          "text": [
            "\n"
          ],
          "name": "stdout"
        },
        {
          "output_type": "display_data",
          "data": {
            "application/vnd.jupyter.widget-view+json": {
              "model_id": "3828d53ef4eb41588d8252aa65b7846b",
              "version_minor": 0,
              "version_major": 2
            },
            "text/plain": [
              "HBox(children=(FloatProgress(value=0.0, description='Downloading', max=536063208.0, style=ProgressStyle(descri…"
            ]
          },
          "metadata": {
            "tags": []
          }
        },
        {
          "output_type": "stream",
          "text": [
            "\n"
          ],
          "name": "stdout"
        },
        {
          "output_type": "stream",
          "text": [
            "Some layers from the model checkpoint at bert-base-uncased were not used when initializing TFBertModel: ['mlm___cls', 'nsp___cls']\n",
            "- This IS expected if you are initializing TFBertModel from the checkpoint of a model trained on another task or with another architecture (e.g. initializing a BertForSequenceClassification model from a BertForPretraining model).\n",
            "- This IS NOT expected if you are initializing TFBertModel from the checkpoint of a model that you expect to be exactly identical (initializing a BertForSequenceClassification model from a BertForSequenceClassification model).\n",
            "All the layers of TFBertModel were initialized from the model checkpoint at bert-base-uncased.\n",
            "If your task is similar to the task the model of the checkpoint was trained on, you can already use TFBertModel for predictions without further training.\n"
          ],
          "name": "stderr"
        },
        {
          "output_type": "stream",
          "text": [
            "Model: \"functional_5\"\n",
            "__________________________________________________________________________________________________\n",
            "Layer (type)                    Output Shape         Param #     Connected to                     \n",
            "==================================================================================================\n",
            "input_word_ids (InputLayer)     [(None, 130)]        0                                            \n",
            "__________________________________________________________________________________________________\n",
            "input_masks (InputLayer)        [(None, 130)]        0                                            \n",
            "__________________________________________________________________________________________________\n",
            "input_segments (InputLayer)     [(None, 130)]        0                                            \n",
            "__________________________________________________________________________________________________\n",
            "tf_bert_model (TFBertModel)     ((None, 130, 768), ( 109482240   input_word_ids[0][0]             \n",
            "                                                                 input_masks[0][0]                \n",
            "                                                                 input_segments[0][0]             \n",
            "__________________________________________________________________________________________________\n",
            "global_average_pooling1d (Globa (None, 768)          0           tf_bert_model[0][0]              \n",
            "__________________________________________________________________________________________________\n",
            "dense_2 (Dense)                 (None, 100)          76900       global_average_pooling1d[0][0]   \n",
            "__________________________________________________________________________________________________\n",
            "output (Dense)                  (None, 1)            101         dense_2[0][0]                    \n",
            "==================================================================================================\n",
            "Total params: 109,559,241\n",
            "Trainable params: 109,559,241\n",
            "Non-trainable params: 0\n",
            "__________________________________________________________________________________________________\n"
          ],
          "name": "stdout"
        }
      ]
    },
    {
      "cell_type": "code",
      "metadata": {
        "id": "R06lQYPaiIOQ",
        "outputId": "8a9e1e29-b0ed-4c1e-b9f9-53c20c339bd2",
        "colab": {
          "base_uri": "https://localhost:8080/",
          "height": 275
        }
      },
      "source": [
        "early_stopping = keras.callbacks.EarlyStopping(monitor=\"val_loss\")\n",
        "model_checkpoint = keras.callbacks.ModelCheckpoint(\"/tmp/model_3\", \n",
        "                                                   monitor=\"val_loss\", \n",
        "                                                   save_best_only=True,\n",
        "                                                   save_weights_only=True)\n",
        "history_3 = model_3.fit(Xtr_train, ytrain, batch_size=32, epochs=5, \n",
        "                        validation_split=0.2,\n",
        "                        callbacks=[early_stopping, model_checkpoint])"
      ],
      "execution_count": 20,
      "outputs": [
        {
          "output_type": "stream",
          "text": [
            "Epoch 1/5\n",
            "WARNING:tensorflow:Gradients do not exist for variables ['tf_bert_model/bert/pooler/dense/kernel:0', 'tf_bert_model/bert/pooler/dense/bias:0'] when minimizing the loss.\n",
            "WARNING:tensorflow:Gradients do not exist for variables ['tf_bert_model/bert/pooler/dense/kernel:0', 'tf_bert_model/bert/pooler/dense/bias:0'] when minimizing the loss.\n",
            "WARNING:tensorflow:Gradients do not exist for variables ['tf_bert_model/bert/pooler/dense/kernel:0', 'tf_bert_model/bert/pooler/dense/bias:0'] when minimizing the loss.\n",
            "WARNING:tensorflow:Gradients do not exist for variables ['tf_bert_model/bert/pooler/dense/kernel:0', 'tf_bert_model/bert/pooler/dense/bias:0'] when minimizing the loss.\n",
            "146/146 [==============================] - 140s 961ms/step - loss: 0.7070 - val_loss: 0.6762\n",
            "Epoch 2/5\n",
            "146/146 [==============================] - 140s 956ms/step - loss: 0.6624 - val_loss: 0.6111\n",
            "Epoch 3/5\n",
            "146/146 [==============================] - 139s 953ms/step - loss: 0.5763 - val_loss: 0.4688\n",
            "Epoch 4/5\n",
            "146/146 [==============================] - 139s 954ms/step - loss: 0.4453 - val_loss: 0.4088\n",
            "Epoch 5/5\n",
            "146/146 [==============================] - 134s 918ms/step - loss: 0.3292 - val_loss: 0.4132\n"
          ],
          "name": "stdout"
        }
      ]
    },
    {
      "cell_type": "code",
      "metadata": {
        "id": "4-JBBs2Ms68V",
        "outputId": "c55ea9bb-124a-4d06-8933-5fb4b17caea3",
        "colab": {
          "base_uri": "https://localhost:8080/",
          "height": 156
        }
      },
      "source": [
        "model_3s = build_model_3()\n",
        "model_3s.load_weights(\"/tmp/model_3\").expect_partial()\n",
        "model_3s.compile(optimizer=adam, loss='binary_crossentropy')\n",
        "\n",
        "scores_3 = model_3s.evaluate(Xtr_test, ytest)\n",
        "print(\"Test accuracy: {:.3f}\".format(scores_3))"
      ],
      "execution_count": 22,
      "outputs": [
        {
          "output_type": "stream",
          "text": [
            "Some layers from the model checkpoint at bert-base-uncased were not used when initializing TFBertModel: ['mlm___cls', 'nsp___cls']\n",
            "- This IS expected if you are initializing TFBertModel from the checkpoint of a model trained on another task or with another architecture (e.g. initializing a BertForSequenceClassification model from a BertForPretraining model).\n",
            "- This IS NOT expected if you are initializing TFBertModel from the checkpoint of a model that you expect to be exactly identical (initializing a BertForSequenceClassification model from a BertForSequenceClassification model).\n",
            "All the layers of TFBertModel were initialized from the model checkpoint at bert-base-uncased.\n",
            "If your task is similar to the task the model of the checkpoint was trained on, you can already use TFBertModel for predictions without further training.\n"
          ],
          "name": "stderr"
        },
        {
          "output_type": "stream",
          "text": [
            "195/195 [==============================] - 56s 288ms/step - loss: 0.4290\n",
            "Test accuracy: 0.429\n"
          ],
          "name": "stdout"
        }
      ]
    },
    {
      "cell_type": "code",
      "metadata": {
        "id": "XxVYN_edOCTj"
      },
      "source": [
        ""
      ],
      "execution_count": null,
      "outputs": []
    }
  ]
}
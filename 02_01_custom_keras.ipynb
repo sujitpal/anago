{
  "nbformat": 4,
  "nbformat_minor": 0,
  "metadata": {
    "colab": {
      "name": "02-01-custom-keras.ipynb",
      "provenance": [],
      "collapsed_sections": [],
      "authorship_tag": "ABX9TyO98Z0PzB0tpFTvCa+YSdcO",
      "include_colab_link": true
    },
    "kernelspec": {
      "name": "python3",
      "display_name": "Python 3"
    },
    "accelerator": "GPU"
  },
  "cells": [
    {
      "cell_type": "markdown",
      "metadata": {
        "id": "view-in-github",
        "colab_type": "text"
      },
      "source": [
        "<a href=\"https://colab.research.google.com/github/sujitpal/anago/blob/master/02_01_custom_keras.ipynb\" target=\"_parent\"><img src=\"https://colab.research.google.com/assets/colab-badge.svg\" alt=\"Open In Colab\"/></a>"
      ]
    },
    {
      "cell_type": "markdown",
      "metadata": {
        "id": "RY9Z1Nyoewlm"
      },
      "source": [
        "# Customizing Keras\n",
        "\n",
        "While Keras provides the building blocks to build simple systems like the Dense and CNN networks we have seen so far, Keras provides you the ability to design more complex networks. As an example, we will demonstrate adding residual connections to our CIFAR-10 CNN.\n",
        "\n",
        "In addition, almost every component in Keras is customizable. You can find details of creating custom classes for each component in the [Keras API Docs](https://keras.io/api/). Here we will demonstrate how to build two custom objects using the Keras API.\n",
        "\n",
        "* Custom loss function and metric (F1-score)\n",
        "* Custom callback (LR Finder)\n"
      ]
    },
    {
      "cell_type": "markdown",
      "metadata": {
        "id": "enPPMkRAnt2D"
      },
      "source": [
        "## Adding Residual Connections to CIFAR-10 Image Classifier\n",
        "\n",
        "While increasing the number of convolution layers in a network can make it do better at various tasks, after a certain depth, performance can suffer because of the original signal getting fainter with depth. [Residual Connections](https://towardsdatascience.com/an-overview-of-resnet-and-its-variants-5281e2f56035) are \"short circuits\" from the input to the output, that can alleviate this problem and allow for creation of deeper CNN networks. \n",
        "\n",
        "![image.png](data:image/png;base64,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)\n",
        "\n",
        "Residual connections can be applied in [different ways](https://towardsdatascience.com/residual-blocks-building-blocks-of-resnet-fd90ca15d6ec) and there are parallels to how LSTM networks solve the problem of vanishing gradients (described in the next session).\n",
        "\n",
        "Below we will see if adding residual connections around the convolutional blocks in our CIFAR-10 image classifier helps with its performance or not. We will use the Keras Functional API to do this.\n"
      ]
    },
    {
      "cell_type": "code",
      "metadata": {
        "id": "1hiRsh62ei9K"
      },
      "source": [
        "import matplotlib.pyplot as plt\n",
        "import numpy as np\n",
        "\n",
        "import tensorflow as tf\n",
        "import tensorflow.keras as keras\n",
        "\n",
        "%matplotlib inline"
      ],
      "execution_count": 1,
      "outputs": []
    },
    {
      "cell_type": "markdown",
      "metadata": {
        "id": "0gIVW9IRvzdL"
      },
      "source": [
        "### Dataset"
      ]
    },
    {
      "cell_type": "code",
      "metadata": {
        "id": "ER0GktD8k31d",
        "outputId": "9ecfcfa4-2303-474e-9efe-ce8f6cdfda66",
        "colab": {
          "base_uri": "https://localhost:8080/",
          "height": 34
        }
      },
      "source": [
        "(Xtrain, ytrain), (Xtest, ytest) = keras.datasets.cifar10.load_data()\n",
        "\n",
        "Xtrain.shape, ytrain.shape, Xtest.shape, ytest.shape"
      ],
      "execution_count": 2,
      "outputs": [
        {
          "output_type": "execute_result",
          "data": {
            "text/plain": [
              "((50000, 32, 32, 3), (50000, 1), (10000, 32, 32, 3), (10000, 1))"
            ]
          },
          "metadata": {
            "tags": []
          },
          "execution_count": 2
        }
      ]
    },
    {
      "cell_type": "code",
      "metadata": {
        "id": "Y8kI4ln9wVGM"
      },
      "source": [
        "Xtrain = Xtrain.astype(np.float32)\n",
        "Xtest = Xtest.astype(np.float32)\n",
        "\n",
        "Xtrain /= 256\n",
        "Xtest /= 256\n",
        "\n",
        "ytrain = keras.utils.to_categorical(ytrain, num_classes=10)\n",
        "ytest = keras.utils.to_categorical(ytest, num_classes=10)"
      ],
      "execution_count": 3,
      "outputs": []
    },
    {
      "cell_type": "markdown",
      "metadata": {
        "id": "rzD-H-ofwQiJ"
      },
      "source": [
        "### Model"
      ]
    },
    {
      "cell_type": "code",
      "metadata": {
        "id": "UMJS8OtmkeXq"
      },
      "source": [
        "def conv_pool_block_with_residual(inputs, num_filters, kernel_size, \n",
        "                                  pool_size, layer_id):\n",
        "  # convolution block processing\n",
        "  conv_out = keras.layers.Conv2D(\n",
        "      32, kernel_size=kernel_size, activation=\"relu\",\n",
        "      name=\"{:s}_conv\".format(layer_id))(inputs)\n",
        "  conv_out = keras.layers.BatchNormalization(\n",
        "      name=\"{:s}_bn\".format(layer_id))(conv_out)\n",
        "\n",
        "  # residual block processing: Conv2D is for reshaping\n",
        "  res_out = keras.layers.Conv2D(\n",
        "      32, kernel_size=kernel_size,\n",
        "      name=\"{:s}_res\".format(layer_id))(inputs)\n",
        "  \n",
        "  # combine conv_out and res_out\n",
        "  outputs = keras.layers.Add(\n",
        "      name=\"{:s}_add\".format(layer_id))([conv_out, res_out])\n",
        "  outputs = keras.layers.Activation(\n",
        "      \"relu\", name=\"{:s}_relu\".format(layer_id))(outputs)\n",
        "  outputs = keras.layers.MaxPool2D(\n",
        "      pool_size=pool_size, name=\"{:s}_pool\".format(layer_id))(outputs)\n",
        "\n",
        "  return outputs\n",
        "\n",
        "\n",
        "def build_model():\n",
        "  inputs = keras.layers.Input(shape=(32, 32, 3))\n",
        "\n",
        "  x = conv_pool_block_with_residual(inputs, 32, (3, 3), (2, 2), \"conv_0\")\n",
        "  x = conv_pool_block_with_residual(x, 64, (3, 3), (2, 2), \"conv_1\")\n",
        "  x = conv_pool_block_with_residual(x, 128, (3, 3), (2, 2), \"conv_2\")\n",
        "  x = keras.layers.Flatten(name=\"flatten\")(x)\n",
        "  x = keras.layers.Dense(512, activation=\"relu\", name=\"dense_0\")(x)\n",
        "  x = keras.layers.Dropout(0.4, name=\"dropout_0\")(x)\n",
        "\n",
        "  outputs = keras.layers.Dense(10, activation=\"softmax\", name=\"dense_1\")(x)\n",
        "\n",
        "  model = keras.models.Model(inputs=inputs, outputs=outputs)\n",
        "  return model\n",
        "\n",
        "model = build_model()"
      ],
      "execution_count": 4,
      "outputs": []
    },
    {
      "cell_type": "code",
      "metadata": {
        "id": "WjZrFmbkv65K"
      },
      "source": [
        "model.compile(optimizer=\"adam\", loss=\"categorical_crossentropy\", \n",
        "              metrics=[\"accuracy\"])"
      ],
      "execution_count": 5,
      "outputs": []
    },
    {
      "cell_type": "code",
      "metadata": {
        "id": "b4eJBcvzw3ky",
        "outputId": "8062d46e-6e3b-476d-e462-6993287319fd",
        "colab": {
          "base_uri": "https://localhost:8080/",
          "height": 986
        }
      },
      "source": [
        "model.summary()"
      ],
      "execution_count": 6,
      "outputs": [
        {
          "output_type": "stream",
          "text": [
            "Model: \"functional_1\"\n",
            "__________________________________________________________________________________________________\n",
            "Layer (type)                    Output Shape         Param #     Connected to                     \n",
            "==================================================================================================\n",
            "input_1 (InputLayer)            [(None, 32, 32, 3)]  0                                            \n",
            "__________________________________________________________________________________________________\n",
            "conv_0_conv (Conv2D)            (None, 30, 30, 32)   896         input_1[0][0]                    \n",
            "__________________________________________________________________________________________________\n",
            "conv_0_bn (BatchNormalization)  (None, 30, 30, 32)   128         conv_0_conv[0][0]                \n",
            "__________________________________________________________________________________________________\n",
            "conv_0_res (Conv2D)             (None, 30, 30, 32)   896         input_1[0][0]                    \n",
            "__________________________________________________________________________________________________\n",
            "conv_0_add (Add)                (None, 30, 30, 32)   0           conv_0_bn[0][0]                  \n",
            "                                                                 conv_0_res[0][0]                 \n",
            "__________________________________________________________________________________________________\n",
            "conv_0_relu (Activation)        (None, 30, 30, 32)   0           conv_0_add[0][0]                 \n",
            "__________________________________________________________________________________________________\n",
            "conv_0_pool (MaxPooling2D)      (None, 15, 15, 32)   0           conv_0_relu[0][0]                \n",
            "__________________________________________________________________________________________________\n",
            "conv_1_conv (Conv2D)            (None, 13, 13, 32)   9248        conv_0_pool[0][0]                \n",
            "__________________________________________________________________________________________________\n",
            "conv_1_bn (BatchNormalization)  (None, 13, 13, 32)   128         conv_1_conv[0][0]                \n",
            "__________________________________________________________________________________________________\n",
            "conv_1_res (Conv2D)             (None, 13, 13, 32)   9248        conv_0_pool[0][0]                \n",
            "__________________________________________________________________________________________________\n",
            "conv_1_add (Add)                (None, 13, 13, 32)   0           conv_1_bn[0][0]                  \n",
            "                                                                 conv_1_res[0][0]                 \n",
            "__________________________________________________________________________________________________\n",
            "conv_1_relu (Activation)        (None, 13, 13, 32)   0           conv_1_add[0][0]                 \n",
            "__________________________________________________________________________________________________\n",
            "conv_1_pool (MaxPooling2D)      (None, 6, 6, 32)     0           conv_1_relu[0][0]                \n",
            "__________________________________________________________________________________________________\n",
            "conv_2_conv (Conv2D)            (None, 4, 4, 32)     9248        conv_1_pool[0][0]                \n",
            "__________________________________________________________________________________________________\n",
            "conv_2_bn (BatchNormalization)  (None, 4, 4, 32)     128         conv_2_conv[0][0]                \n",
            "__________________________________________________________________________________________________\n",
            "conv_2_res (Conv2D)             (None, 4, 4, 32)     9248        conv_1_pool[0][0]                \n",
            "__________________________________________________________________________________________________\n",
            "conv_2_add (Add)                (None, 4, 4, 32)     0           conv_2_bn[0][0]                  \n",
            "                                                                 conv_2_res[0][0]                 \n",
            "__________________________________________________________________________________________________\n",
            "conv_2_relu (Activation)        (None, 4, 4, 32)     0           conv_2_add[0][0]                 \n",
            "__________________________________________________________________________________________________\n",
            "conv_2_pool (MaxPooling2D)      (None, 2, 2, 32)     0           conv_2_relu[0][0]                \n",
            "__________________________________________________________________________________________________\n",
            "flatten (Flatten)               (None, 128)          0           conv_2_pool[0][0]                \n",
            "__________________________________________________________________________________________________\n",
            "dense_0 (Dense)                 (None, 512)          66048       flatten[0][0]                    \n",
            "__________________________________________________________________________________________________\n",
            "dropout_0 (Dropout)             (None, 512)          0           dense_0[0][0]                    \n",
            "__________________________________________________________________________________________________\n",
            "dense_1 (Dense)                 (None, 10)           5130        dropout_0[0][0]                  \n",
            "==================================================================================================\n",
            "Total params: 110,346\n",
            "Trainable params: 110,154\n",
            "Non-trainable params: 192\n",
            "__________________________________________________________________________________________________\n"
          ],
          "name": "stdout"
        }
      ]
    },
    {
      "cell_type": "code",
      "metadata": {
        "id": "rEFLJymsw4fZ",
        "outputId": "a4f7f1cf-81e2-4980-d2e9-b964ed8120a9",
        "colab": {
          "base_uri": "https://localhost:8080/",
          "height": 717
        }
      },
      "source": [
        "history = model.fit(Xtrain, ytrain, batch_size=64, epochs=20, validation_split=0.2)"
      ],
      "execution_count": 7,
      "outputs": [
        {
          "output_type": "stream",
          "text": [
            "Epoch 1/20\n",
            "625/625 [==============================] - 4s 6ms/step - loss: 1.5757 - accuracy: 0.4305 - val_loss: 1.5304 - val_accuracy: 0.4400\n",
            "Epoch 2/20\n",
            "625/625 [==============================] - 3s 5ms/step - loss: 1.2138 - accuracy: 0.5637 - val_loss: 1.7157 - val_accuracy: 0.4260\n",
            "Epoch 3/20\n",
            "625/625 [==============================] - 3s 5ms/step - loss: 1.0835 - accuracy: 0.6169 - val_loss: 1.2765 - val_accuracy: 0.5521\n",
            "Epoch 4/20\n",
            "625/625 [==============================] - 3s 5ms/step - loss: 0.9859 - accuracy: 0.6509 - val_loss: 1.1736 - val_accuracy: 0.5833\n",
            "Epoch 5/20\n",
            "625/625 [==============================] - 3s 5ms/step - loss: 0.9257 - accuracy: 0.6754 - val_loss: 1.2409 - val_accuracy: 0.5908\n",
            "Epoch 6/20\n",
            "625/625 [==============================] - 3s 5ms/step - loss: 0.8794 - accuracy: 0.6910 - val_loss: 1.4060 - val_accuracy: 0.5416\n",
            "Epoch 7/20\n",
            "625/625 [==============================] - 3s 5ms/step - loss: 0.8316 - accuracy: 0.7036 - val_loss: 0.9710 - val_accuracy: 0.6606\n",
            "Epoch 8/20\n",
            "625/625 [==============================] - 3s 5ms/step - loss: 0.7935 - accuracy: 0.7177 - val_loss: 1.1365 - val_accuracy: 0.6237\n",
            "Epoch 9/20\n",
            "625/625 [==============================] - 3s 5ms/step - loss: 0.7583 - accuracy: 0.7314 - val_loss: 1.0336 - val_accuracy: 0.6521\n",
            "Epoch 10/20\n",
            "625/625 [==============================] - 3s 5ms/step - loss: 0.7352 - accuracy: 0.7423 - val_loss: 1.1378 - val_accuracy: 0.6156\n",
            "Epoch 11/20\n",
            "625/625 [==============================] - 3s 5ms/step - loss: 0.7055 - accuracy: 0.7476 - val_loss: 1.0858 - val_accuracy: 0.6375\n",
            "Epoch 12/20\n",
            "625/625 [==============================] - 3s 5ms/step - loss: 0.6877 - accuracy: 0.7577 - val_loss: 1.0459 - val_accuracy: 0.6563\n",
            "Epoch 13/20\n",
            "625/625 [==============================] - 3s 5ms/step - loss: 0.6616 - accuracy: 0.7625 - val_loss: 1.0221 - val_accuracy: 0.6678\n",
            "Epoch 14/20\n",
            "625/625 [==============================] - 3s 5ms/step - loss: 0.6393 - accuracy: 0.7722 - val_loss: 0.9009 - val_accuracy: 0.6993\n",
            "Epoch 15/20\n",
            "625/625 [==============================] - 3s 5ms/step - loss: 0.6152 - accuracy: 0.7805 - val_loss: 1.1560 - val_accuracy: 0.6411\n",
            "Epoch 16/20\n",
            "625/625 [==============================] - 3s 5ms/step - loss: 0.6013 - accuracy: 0.7843 - val_loss: 1.0532 - val_accuracy: 0.6711\n",
            "Epoch 17/20\n",
            "625/625 [==============================] - 3s 5ms/step - loss: 0.5791 - accuracy: 0.7923 - val_loss: 1.4481 - val_accuracy: 0.5796\n",
            "Epoch 18/20\n",
            "625/625 [==============================] - 3s 5ms/step - loss: 0.5665 - accuracy: 0.7972 - val_loss: 0.9871 - val_accuracy: 0.6857\n",
            "Epoch 19/20\n",
            "625/625 [==============================] - 3s 5ms/step - loss: 0.5444 - accuracy: 0.8040 - val_loss: 0.9438 - val_accuracy: 0.7119\n",
            "Epoch 20/20\n",
            "625/625 [==============================] - 3s 5ms/step - loss: 0.5393 - accuracy: 0.8058 - val_loss: 0.9213 - val_accuracy: 0.7108\n"
          ],
          "name": "stdout"
        }
      ]
    },
    {
      "cell_type": "code",
      "metadata": {
        "id": "h92SvEWbxBK0",
        "outputId": "2370adec-f048-4e39-cc63-845752cf1a50",
        "colab": {
          "base_uri": "https://localhost:8080/",
          "height": 51
        }
      },
      "source": [
        "score = model.evaluate(Xtest, ytest)\n",
        "print(\"test loss: {:.5f}, test accuracy: {:.5f}\".format(score[0], score[1]))"
      ],
      "execution_count": 8,
      "outputs": [
        {
          "output_type": "stream",
          "text": [
            "313/313 [==============================] - 1s 3ms/step - loss: 0.9535 - accuracy: 0.7069\n",
            "test loss: 0.95355, test accuracy: 0.70690\n"
          ],
          "name": "stdout"
        }
      ]
    },
    {
      "cell_type": "markdown",
      "metadata": {
        "id": "_8EgerUcx9i0"
      },
      "source": [
        "## Custom Loss Function\n",
        "\n",
        "Sometimes tasks are defined by external entities, along with success criteria. These success criteria may not be possible to model using existing loss functions, so we would need to create a custom loss function (and metric) that mimics the success criteria.\n",
        "\n",
        "Other times custom loss functions are driven by data distributions. For example, unbalanced training data (i.e., so some classes are over-represented in the training data), ROC AUC or F1-score may be a better indicator of model performance.\n",
        "\n",
        "Loss Functions and metrics have the same signature, so a loss function can generally also be used as a metric.\n",
        "\n",
        "Difference between loss function and metric is that the output of the loss function is used for training the model, whereas the metric is used to judge the performance of the model. Therefore the loss function __must be differentiable__.\n",
        "\n",
        "Loss function signature:\n",
        "```\n",
        "def custom_loss(y_true, y_pred, sample_weights=None)\n",
        "```\n",
        "\n",
        "Post Keras 2.3.0, development will continue in `tf.keras` so [only the Tensorflow backend will be supported](https://github.com/keras-team/keras/releases/tag/2.3.0).\n",
        "\n",
        "So it makes sense to use tf functions directly instead of using the `keras.backend` library.\n",
        "\n",
        "We will demonstrate how to write a loss function that computes F1 score."
      ]
    },
    {
      "cell_type": "code",
      "metadata": {
        "id": "9yJ3C16yx4W7",
        "outputId": "891474d0-1ad4-49af-a2c2-66b044ba6811",
        "colab": {
          "base_uri": "https://localhost:8080/",
          "height": 68
        }
      },
      "source": [
        "def f1_score_fn(y_true, y_pred, as_metric=False, num_classes=None):\n",
        "  if as_metric:\n",
        "    # for getting true f1 score, pred needs to be 0/1 same as label\n",
        "    # but that is not differentiable, so for loss to be differentiable\n",
        "    # it needs to remain as probabilities.\n",
        "    y_pred = tf.round(y_pred)\n",
        "  \n",
        "  tp = tf.reduce_sum(tf.cast(tf.multiply(y_true, y_pred), tf.float32), axis=0)\n",
        "  tn = tf.reduce_sum(tf.cast(tf.multiply(1 - y_true, 1 - y_pred), tf.float32), axis=0)\n",
        "  fp = tf.reduce_sum(tf.cast(tf.multiply(1 - y_true, y_pred), tf.float32), axis=0)\n",
        "  fn = tf.reduce_sum(tf.cast(tf.multiply(y_true, 1 - y_pred), tf.float32), axis=0)\n",
        "\n",
        "  eps = tf.keras.backend.epsilon()\n",
        "  precision = tp / (tp + fp + eps)\n",
        "  recall = tp / (tp + fn + eps) \n",
        "\n",
        "  f1 = (2 * precision * recall) / (precision + recall + eps)\n",
        "  f1 = tf.where(tf.math.is_nan(f1), tf.zeros_like(f1), f1)\n",
        "\n",
        "  return tf.reduce_mean(f1)\n",
        "\n",
        "\n",
        "def f1_loss(y_true, y_pred, sample_weights=None):\n",
        "  return f1_score_fn(y_true, y_pred)\n",
        "\n",
        "\n",
        "def f1_metric(y_true, y_pred):\n",
        "  return f1_score_fn(y_true, y_pred, as_metric=True, num_classes=10)\n",
        "\n",
        "\n",
        "# Test loss and metric\n",
        "y_true = ytest[0:32]\n",
        "y_pred = model.predict(Xtest[0:32])\n",
        "\n",
        "losses = f1_loss(y_true, y_pred)\n",
        "metric = f1_metric(y_true, y_pred)\n",
        "\n",
        "print(y_true.shape, y_pred.shape)\n",
        "print(\"losses:\", losses)\n",
        "print(\"metrics:\", metric)"
      ],
      "execution_count": 9,
      "outputs": [
        {
          "output_type": "stream",
          "text": [
            "(32, 10) (32, 10)\n",
            "losses: tf.Tensor(0.6697344, shape=(), dtype=float32)\n",
            "metrics: tf.Tensor(0.81571424, shape=(), dtype=float32)\n"
          ],
          "name": "stdout"
        }
      ]
    },
    {
      "cell_type": "code",
      "metadata": {
        "id": "8z5Zi_p-rwpk",
        "outputId": "aa3db635-ee6c-4175-abd9-5dbf0ea0aec9",
        "colab": {
          "base_uri": "https://localhost:8080/",
          "height": 394
        }
      },
      "source": [
        "# model_f1 = keras.models.Model(inputs=inputs, outputs=outputs)\n",
        "model_fl = build_model()\n",
        "\n",
        "model_fl.compile(optimizer=\"adam\", loss=f1_loss, metrics=[\"accuracy\", f1_metric])\n",
        "model_fl.fit(Xtrain, ytrain, batch_size=64, epochs=10, validation_split=0.2)"
      ],
      "execution_count": 11,
      "outputs": [
        {
          "output_type": "stream",
          "text": [
            "Epoch 1/10\n",
            "625/625 [==============================] - 4s 6ms/step - loss: 0.0091 - accuracy: 0.0287 - f1_metric: 0.0085 - val_loss: 0.0101 - val_accuracy: 0.0366 - val_f1_metric: 0.0100\n",
            "Epoch 2/10\n",
            "625/625 [==============================] - 4s 6ms/step - loss: 0.0086 - accuracy: 0.0290 - f1_metric: 0.0085 - val_loss: 0.0163 - val_accuracy: 0.0801 - val_f1_metric: 0.0163\n",
            "Epoch 3/10\n",
            "625/625 [==============================] - 4s 6ms/step - loss: 0.0083 - accuracy: 0.0281 - f1_metric: 0.0083 - val_loss: 0.0171 - val_accuracy: 0.0939 - val_f1_metric: 0.0171\n",
            "Epoch 4/10\n",
            "625/625 [==============================] - 4s 6ms/step - loss: 0.0093 - accuracy: 0.0327 - f1_metric: 0.0093 - val_loss: 0.0084 - val_accuracy: 0.0274 - val_f1_metric: 0.0084\n",
            "Epoch 5/10\n",
            "625/625 [==============================] - 4s 6ms/step - loss: 0.0095 - accuracy: 0.0356 - f1_metric: 0.0094 - val_loss: 0.0176 - val_accuracy: 0.0974 - val_f1_metric: 0.0176\n",
            "Epoch 6/10\n",
            "625/625 [==============================] - 4s 6ms/step - loss: 0.0088 - accuracy: 0.0301 - f1_metric: 0.0088 - val_loss: 0.0159 - val_accuracy: 0.0811 - val_f1_metric: 0.0158\n",
            "Epoch 7/10\n",
            "625/625 [==============================] - 4s 6ms/step - loss: 0.0085 - accuracy: 0.0291 - f1_metric: 0.0085 - val_loss: 0.0147 - val_accuracy: 0.0608 - val_f1_metric: 0.0146\n",
            "Epoch 8/10\n",
            "625/625 [==============================] - 4s 6ms/step - loss: 0.0114 - accuracy: 0.0419 - f1_metric: 0.0114 - val_loss: 0.0138 - val_accuracy: 0.0533 - val_f1_metric: 0.0139\n",
            "Epoch 9/10\n",
            "625/625 [==============================] - 4s 6ms/step - loss: 0.0099 - accuracy: 0.0382 - f1_metric: 0.0099 - val_loss: 0.0098 - val_accuracy: 0.0407 - val_f1_metric: 0.0098\n",
            "Epoch 10/10\n",
            "625/625 [==============================] - 4s 6ms/step - loss: 0.0085 - accuracy: 0.0296 - f1_metric: 0.0085 - val_loss: 0.0073 - val_accuracy: 0.0221 - val_f1_metric: 0.0072\n"
          ],
          "name": "stdout"
        },
        {
          "output_type": "execute_result",
          "data": {
            "text/plain": [
              "<tensorflow.python.keras.callbacks.History at 0x7f7ebc50cf60>"
            ]
          },
          "metadata": {
            "tags": []
          },
          "execution_count": 11
        }
      ]
    },
    {
      "cell_type": "markdown",
      "metadata": {
        "id": "_wuGuRIE82xJ"
      },
      "source": [
        "## Learning Rate Schedule\n",
        "\n",
        "Neural networks learn using the [gradient descent algorithm](https://en.wikipedia.org/wiki/Gradient_descent), and the update rule for gradient descent is:\n",
        "\n",
        "$$ W \\leftarrow W + \\alpha \\frac{\\partial L}{\\partial W} $$\n",
        "\n",
        "Here $\\alpha$ is the learning rate. Generally we just choose a reasonable constant value based on the optimizer.\n",
        "\n",
        "However, it is recommended to lower the learning rate as training progreeses because of the behavior indicated by this visual.\n",
        "\n",
        "![image.png](data:image/png;base64,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)\n"
      ]
    },
    {
      "cell_type": "markdown",
      "metadata": {
        "id": "4PI3zgSFd3uw"
      },
      "source": [
        "### Built-in Learning Rate Schedules\n",
        "\n",
        "Keras optimizers allow you to vary the learning rate over the training by allowing `LearningRateSchedule` objects ([see list of built-in schedules](https://keras.io/api/optimizers/learning_rate_schedules/)) to be passed to its `learning_rate` parameter."
      ]
    },
    {
      "cell_type": "code",
      "metadata": {
        "id": "k1ktKXk2WtBO",
        "outputId": "e96aae63-0bf2-4a96-e330-3e76cf6f681e",
        "colab": {
          "base_uri": "https://localhost:8080/",
          "height": 34
        }
      },
      "source": [
        "Xtrain.shape, ytrain.shape"
      ],
      "execution_count": 12,
      "outputs": [
        {
          "output_type": "execute_result",
          "data": {
            "text/plain": [
              "((50000, 32, 32, 3), (50000, 10))"
            ]
          },
          "metadata": {
            "tags": []
          },
          "execution_count": 12
        }
      ]
    },
    {
      "cell_type": "code",
      "metadata": {
        "id": "cMkfaZ1d3jPh",
        "outputId": "5b693757-b9d2-45f5-ea83-8d20d2177d53",
        "colab": {
          "base_uri": "https://localhost:8080/",
          "height": 394
        }
      },
      "source": [
        "# model_lr = keras.models.Model(inputs=inputs, outputs=outputs)\n",
        "model_lr = build_model()\n",
        "\n",
        "lr_schedule = keras.optimizers.schedules.ExponentialDecay(\n",
        "    initial_learning_rate=0.1, decay_steps=100000, decay_rate=0.96, staircase=True)\n",
        "model_lr.compile(optimizer=keras.optimizers.SGD(learning_rate=lr_schedule),\n",
        "                 loss=\"categorical_crossentropy\",\n",
        "                 metrics=[\"accuracy\"])\n",
        "model_lr.fit(Xtrain, ytrain, batch_size=64, epochs=10, validation_split=0.2)"
      ],
      "execution_count": 13,
      "outputs": [
        {
          "output_type": "stream",
          "text": [
            "Epoch 1/10\n",
            "625/625 [==============================] - 4s 6ms/step - loss: 1.6704 - accuracy: 0.3885 - val_loss: 1.4885 - val_accuracy: 0.4671\n",
            "Epoch 2/10\n",
            "625/625 [==============================] - 3s 5ms/step - loss: 1.3508 - accuracy: 0.5138 - val_loss: 2.0275 - val_accuracy: 0.3438\n",
            "Epoch 3/10\n",
            "625/625 [==============================] - 3s 5ms/step - loss: 1.2187 - accuracy: 0.5673 - val_loss: 1.4546 - val_accuracy: 0.4873\n",
            "Epoch 4/10\n",
            "625/625 [==============================] - 3s 5ms/step - loss: 1.1253 - accuracy: 0.5992 - val_loss: 1.4882 - val_accuracy: 0.5035\n",
            "Epoch 5/10\n",
            "625/625 [==============================] - 3s 5ms/step - loss: 1.0493 - accuracy: 0.6270 - val_loss: 1.2325 - val_accuracy: 0.5854\n",
            "Epoch 6/10\n",
            "625/625 [==============================] - 3s 5ms/step - loss: 0.9957 - accuracy: 0.6494 - val_loss: 1.3406 - val_accuracy: 0.5333\n",
            "Epoch 7/10\n",
            "625/625 [==============================] - 3s 5ms/step - loss: 0.9436 - accuracy: 0.6668 - val_loss: 1.2023 - val_accuracy: 0.5806\n",
            "Epoch 8/10\n",
            "625/625 [==============================] - 3s 5ms/step - loss: 0.9091 - accuracy: 0.6796 - val_loss: 1.1695 - val_accuracy: 0.5989\n",
            "Epoch 9/10\n",
            "625/625 [==============================] - 3s 5ms/step - loss: 0.8713 - accuracy: 0.6936 - val_loss: 1.5368 - val_accuracy: 0.5448\n",
            "Epoch 10/10\n",
            "625/625 [==============================] - 3s 5ms/step - loss: 0.8401 - accuracy: 0.7041 - val_loss: 1.4414 - val_accuracy: 0.5730\n"
          ],
          "name": "stdout"
        },
        {
          "output_type": "execute_result",
          "data": {
            "text/plain": [
              "<tensorflow.python.keras.callbacks.History at 0x7f7ebc189828>"
            ]
          },
          "metadata": {
            "tags": []
          },
          "execution_count": 13
        }
      ]
    },
    {
      "cell_type": "markdown",
      "metadata": {
        "id": "nfXUfd-tXFKZ"
      },
      "source": [
        "### LearningRateScheduler callback\n",
        "\n",
        "If the canned schedulers do not meet your needs, another more flexible approach is to build your own __learning rate schedule__ which you can invoke using the `LearningRateScheduler` callback.\n",
        "\n",
        "This callback is called at the beginning of every epoch. You have to provide your own `schedule(epoch, learning_rate) -> learning_rate` function in its constructor."
      ]
    },
    {
      "cell_type": "code",
      "metadata": {
        "id": "HBau1-nrWCEu",
        "outputId": "a65aeae4-2e2b-47f1-fe70-96f92d25a7ca",
        "colab": {
          "base_uri": "https://localhost:8080/",
          "height": 279
        }
      },
      "source": [
        "def schedule_fn(factor=0.25, step_width=2):\n",
        "  def _schedule(epoch, lr):\n",
        "    if epoch % step_width == 0:\n",
        "      return lr - (lr * factor)\n",
        "    else:\n",
        "      return lr\n",
        "  return _schedule\n",
        "\n",
        "# :self test:\n",
        "schedule = schedule_fn()\n",
        "\n",
        "xs, ys = [], []\n",
        "lr = 0.01\n",
        "for epoch in range(10):\n",
        "  lr = schedule(epoch, lr)\n",
        "  xs.append(epoch)\n",
        "  ys.append(lr)\n",
        "\n",
        "plt.plot(xs, ys)\n",
        "plt.xlabel(\"epochs\")\n",
        "plt.ylabel(\"learning rate\")\n",
        "_ = plt.show()"
      ],
      "execution_count": 14,
      "outputs": [
        {
          "output_type": "display_data",
          "data": {
            "image/png": "[encoded data removed]",
            "text/plain": [
              "<Figure size 432x288 with 1 Axes>"
            ]
          },
          "metadata": {
            "tags": [],
            "needs_background": "light"
          }
        }
      ]
    },
    {
      "cell_type": "code",
      "metadata": {
        "id": "5dBAMZgoaCn8",
        "outputId": "f249eb5c-3231-41da-9ce3-c5d75ffd37da",
        "colab": {
          "base_uri": "https://localhost:8080/",
          "height": 394
        }
      },
      "source": [
        "# model_lr1 = keras.models.Model(inputs=inputs, outputs=outputs)\n",
        "model_lr1 = build_model()\n",
        "\n",
        "lrs_callback = keras.callbacks.LearningRateScheduler(schedule)\n",
        "model_lr1.compile(optimizer=\"sgd\", loss=\"categorical_crossentropy\", metrics=[\"accuracy\"])\n",
        "model_lr1.fit(Xtrain, ytrain, batch_size=64, epochs=10, validation_split=0.2,\n",
        "              callbacks=[lrs_callback])"
      ],
      "execution_count": 15,
      "outputs": [
        {
          "output_type": "stream",
          "text": [
            "Epoch 1/10\n",
            "625/625 [==============================] - 3s 6ms/step - loss: 1.8656 - accuracy: 0.3146 - val_loss: 1.7305 - val_accuracy: 0.3633\n",
            "Epoch 2/10\n",
            "625/625 [==============================] - 3s 5ms/step - loss: 1.5416 - accuracy: 0.4379 - val_loss: 1.7629 - val_accuracy: 0.3890\n",
            "Epoch 3/10\n",
            "625/625 [==============================] - 3s 5ms/step - loss: 1.4073 - accuracy: 0.4899 - val_loss: 1.3913 - val_accuracy: 0.4909\n",
            "Epoch 4/10\n",
            "625/625 [==============================] - 3s 5ms/step - loss: 1.3425 - accuracy: 0.5175 - val_loss: 1.5746 - val_accuracy: 0.4535\n",
            "Epoch 5/10\n",
            "625/625 [==============================] - 3s 5ms/step - loss: 1.2751 - accuracy: 0.5423 - val_loss: 1.2543 - val_accuracy: 0.5506\n",
            "Epoch 6/10\n",
            "625/625 [==============================] - 3s 5ms/step - loss: 1.2386 - accuracy: 0.5540 - val_loss: 1.2566 - val_accuracy: 0.5556\n",
            "Epoch 7/10\n",
            "625/625 [==============================] - 3s 5ms/step - loss: 1.1969 - accuracy: 0.5713 - val_loss: 1.2089 - val_accuracy: 0.5669\n",
            "Epoch 8/10\n",
            "625/625 [==============================] - 3s 5ms/step - loss: 1.1745 - accuracy: 0.5817 - val_loss: 1.3474 - val_accuracy: 0.5160\n",
            "Epoch 9/10\n",
            "625/625 [==============================] - 3s 5ms/step - loss: 1.1510 - accuracy: 0.5891 - val_loss: 1.1865 - val_accuracy: 0.5726\n",
            "Epoch 10/10\n",
            "625/625 [==============================] - 3s 5ms/step - loss: 1.1371 - accuracy: 0.5959 - val_loss: 1.1278 - val_accuracy: 0.6017\n"
          ],
          "name": "stdout"
        },
        {
          "output_type": "execute_result",
          "data": {
            "text/plain": [
              "<tensorflow.python.keras.callbacks.History at 0x7f7eb2217eb8>"
            ]
          },
          "metadata": {
            "tags": []
          },
          "execution_count": 15
        }
      ]
    },
    {
      "cell_type": "markdown",
      "metadata": {
        "id": "-BOaRX8Bebw1"
      },
      "source": [
        "### Building your own Learning Rate Callback\n",
        "\n",
        "You can create a custom callback by subclassing `keras.callbacks.Callback` and override the appropriate method(s) that get called at:\n",
        "\n",
        "* the beginning and end of training, test, and predict,\n",
        "* beginning and end of batch, and \n",
        "* beginning and end of epoch\n",
        "\n",
        "Leslie Smith describes the idea of tuning networks using Cyclic Learning Rates (CLR) in his papers [A disciplined approach to neural network hyperparameters](https://arxiv.org/abs/1803.09820) and [Cyclic Learning Rates for Training Neural Networks](https://arxiv.org/abs/1506.01186).\n",
        "\n",
        "This technique was popularized by Jeremy Howard in his fast.ai lectures and library (which are currently in Pytorch).\n",
        "\n",
        "Essentially, the idea is to oscillate between a minimum and maximum learning rate during training, rather than a monotonic decay schedule. CLR helps with faster convergence.\n",
        "\n",
        "The CLR is implemented as a Keras Callback as described earlier. However, someone has already built this and put it in github, and its not exactly trivial, so we will just use their code.\n",
        "\n",
        "In the next section, we will look at the LR Finder code, which we will implement ourself as a Keras Callback."
      ]
    },
    {
      "cell_type": "code",
      "metadata": {
        "id": "fupqsUFgdavR",
        "outputId": "03c7863f-2b3a-4039-a430-536b09b402d7",
        "colab": {
          "base_uri": "https://localhost:8080/",
          "height": 34
        }
      },
      "source": [
        "%%bash\n",
        "(\n",
        "if [ -d CLR ]; then\n",
        "  git clone https://github.com/bckenstler/CLR\n",
        "fi\n",
        ")"
      ],
      "execution_count": 16,
      "outputs": [
        {
          "output_type": "stream",
          "text": [
            "fatal: destination path 'CLR' already exists and is not an empty directory.\n"
          ],
          "name": "stderr"
        }
      ]
    },
    {
      "cell_type": "code",
      "metadata": {
        "id": "sKiU5kFyjUVk"
      },
      "source": [
        "from CLR.clr_callback import CyclicLR\n",
        "\n",
        "batch_size = 128\n",
        "step_size = 4 * Xtrain.shape[0] // batch_size\n",
        "clr = CyclicLR(mode=\"triangular2\",\n",
        "               base_lr=1e-7,\n",
        "               max_lr=1e-2,\n",
        "               step_size=step_size)"
      ],
      "execution_count": 17,
      "outputs": []
    },
    {
      "cell_type": "code",
      "metadata": {
        "id": "YTwTKurHjYb7",
        "outputId": "506ffc94-7e8a-4c72-91da-f96efad2ce68",
        "colab": {
          "base_uri": "https://localhost:8080/",
          "height": 377
        }
      },
      "source": [
        "# model_clr = keras.models.Model(inputs=inputs, outputs=outputs)\n",
        "model_clr = build_model()\n",
        "\n",
        "clr_callback = keras.callbacks.LearningRateScheduler(schedule)\n",
        "model_clr.compile(optimizer=\"sgd\", loss=\"categorical_crossentropy\", metrics=[\"accuracy\"])\n",
        "history = model_clr.fit(Xtrain, ytrain, batch_size=64, epochs=10, validation_split=0.2,\n",
        "                        callbacks=[clr])"
      ],
      "execution_count": 18,
      "outputs": [
        {
          "output_type": "stream",
          "text": [
            "Epoch 1/10\n",
            "625/625 [==============================] - 4s 6ms/step - loss: 2.3196 - accuracy: 0.1862 - val_loss: 1.9108 - val_accuracy: 0.3113\n",
            "Epoch 2/10\n",
            "625/625 [==============================] - 4s 6ms/step - loss: 1.7488 - accuracy: 0.3501 - val_loss: 1.6148 - val_accuracy: 0.4141\n",
            "Epoch 3/10\n",
            "625/625 [==============================] - 4s 6ms/step - loss: 1.5199 - accuracy: 0.4459 - val_loss: 1.5076 - val_accuracy: 0.4609\n",
            "Epoch 4/10\n",
            "625/625 [==============================] - 4s 6ms/step - loss: 1.3604 - accuracy: 0.5079 - val_loss: 1.3455 - val_accuracy: 0.5152\n",
            "Epoch 5/10\n",
            "625/625 [==============================] - 4s 6ms/step - loss: 1.2749 - accuracy: 0.5440 - val_loss: 1.2210 - val_accuracy: 0.5666\n",
            "Epoch 6/10\n",
            "625/625 [==============================] - 4s 6ms/step - loss: 1.2512 - accuracy: 0.5514 - val_loss: 1.2405 - val_accuracy: 0.5584\n",
            "Epoch 7/10\n",
            "625/625 [==============================] - 4s 6ms/step - loss: 1.2438 - accuracy: 0.5552 - val_loss: 1.4333 - val_accuracy: 0.5099\n",
            "Epoch 8/10\n",
            "625/625 [==============================] - 4s 6ms/step - loss: 1.2215 - accuracy: 0.5634 - val_loss: 1.2367 - val_accuracy: 0.5593\n",
            "Epoch 9/10\n",
            "625/625 [==============================] - 4s 6ms/step - loss: 1.1707 - accuracy: 0.5816 - val_loss: 1.2364 - val_accuracy: 0.5608\n",
            "Epoch 10/10\n",
            "625/625 [==============================] - 4s 6ms/step - loss: 1.1339 - accuracy: 0.5962 - val_loss: 1.1186 - val_accuracy: 0.6087\n"
          ],
          "name": "stdout"
        }
      ]
    },
    {
      "cell_type": "code",
      "metadata": {
        "id": "tK08gQLZ957e",
        "outputId": "ede1397c-759e-4000-d049-1c2e314af9df",
        "colab": {
          "base_uri": "https://localhost:8080/",
          "height": 51
        }
      },
      "source": [
        "scores = model_clr.evaluate(Xtest, ytest)\n",
        "print(\"test loss: {:.5f}, accuracy: {:.5f}\".format(scores[0], scores[1]))"
      ],
      "execution_count": 19,
      "outputs": [
        {
          "output_type": "stream",
          "text": [
            "313/313 [==============================] - 1s 3ms/step - loss: 1.1240 - accuracy: 0.6030\n",
            "test loss: 1.12398, accuracy: 0.60300\n"
          ],
          "name": "stdout"
        }
      ]
    },
    {
      "cell_type": "code",
      "metadata": {
        "id": "q6rl-aLhmDyd",
        "outputId": "4e8eac1b-f25e-4ac5-b30e-ef1b97a28326",
        "colab": {
          "base_uri": "https://localhost:8080/",
          "height": 295
        }
      },
      "source": [
        "plt.plot(np.arange(len(clr.history[\"lr\"])), clr.history[\"lr\"])\n",
        "plt.xlabel(\"iterations\")\n",
        "plt.ylabel(\"learning rate\")\n",
        "plt.title(\"triangular2\")\n",
        "_ = plt.show()"
      ],
      "execution_count": 20,
      "outputs": [
        {
          "output_type": "display_data",
          "data": {
            "image/png": "[encoded data removed]",
            "text/plain": [
              "<Figure size 432x288 with 1 Axes>"
            ]
          },
          "metadata": {
            "tags": [],
            "needs_background": "light"
          }
        }
      ]
    },
    {
      "cell_type": "markdown",
      "metadata": {
        "id": "BCwD5zZ3wuAZ"
      },
      "source": [
        "### LR Finder as Keras Callback\n",
        "\n",
        "Learning Rate usage.\n",
        "\n",
        "* Learning rate range is set to very large interval, typically 1e-5 to 1e+1.\n",
        "* After each batch, the learning rate is raised exponentially. \n",
        "* Model is trained for 3-5 epochs.\n",
        "* Plot of Loss versus Learning Rate is visually examined and the optimal LR range identified.\n",
        "* The full model is then trained using CLR using the learning rate ranges found from the LR Finder.\n",
        "\n",
        "__NOTE__: the [surmenok/keras_lr_finder](https://github.com/surmenok/keras_lr_finder) provides an open source implementation of LR finder, but it is written against the classic Keras, so we will rewrite this using `tf.keras` for our purposes."
      ]
    },
    {
      "cell_type": "code",
      "metadata": {
        "id": "U2sfzqAQ3wT8"
      },
      "source": [
        "import math\n",
        "from keras.callbacks import LambdaCallback\n",
        "import numpy as np\n",
        "\n",
        "\n",
        "class LRFinder:\n",
        "    def __init__(self, model):\n",
        "        self.model = model\n",
        "        self.losses = []\n",
        "        self.lrs = []\n",
        "        self.best_loss = 1e9\n",
        "\n",
        "    def on_batch_end(self, batch, logs):\n",
        "        # Log the learning rate\n",
        "        # lr = K.get_value(self.model.optimizer.lr)\n",
        "        lr = keras.backend.get_value(self.model.optimizer.lr)\n",
        "        self.lrs.append(lr)\n",
        "\n",
        "        # Log the loss\n",
        "        loss = logs['loss']\n",
        "        self.losses.append(loss)\n",
        "\n",
        "        # Check whether the loss got too large or NaN\n",
        "        if batch > 5 and (math.isnan(loss) or loss > self.best_loss * 4):\n",
        "            self.model.stop_training = True\n",
        "            return\n",
        "\n",
        "        if loss < self.best_loss:\n",
        "            self.best_loss = loss\n",
        "\n",
        "        # Increase the learning rate for the next batch\n",
        "        lr *= self.lr_mult\n",
        "        # K.set_value(self.model.optimizer.lr, lr)\n",
        "        keras.backend.set_value(self.model.optimizer.lr, lr)\n",
        "\n",
        "    def find(self, x_train, y_train, start_lr, end_lr, batch_size=64, epochs=1, **kw_fit):\n",
        "        # If x_train contains data for multiple inputs, use length of the first input.\n",
        "        # Assumption: the first element in the list is single input; NOT a list of inputs.\n",
        "        N = x_train[0].shape[0] if isinstance(x_train, list) else x_train.shape[0]\n",
        "\n",
        "        # Compute number of batches and LR multiplier\n",
        "        num_batches = epochs * N / batch_size\n",
        "        self.lr_mult = (float(end_lr) / float(start_lr)) ** (float(1) / float(num_batches))\n",
        "        # Save weights into a file\n",
        "        initial_weights = self.model.get_weights()\n",
        "\n",
        "        # Remember the original learning rate\n",
        "        # original_lr = K.get_value(self.model.optimizer.lr)\n",
        "        original_lr = keras.backend.get_value(self.model.optimizer.lr)\n",
        "\n",
        "        # Set the initial learning rate\n",
        "        # K.set_value(self.model.optimizer.lr, start_lr)\n",
        "        keras.backend.set_value(self.model.optimizer.lr, start_lr)\n",
        "\n",
        "        callback = LambdaCallback(on_batch_end=lambda batch, logs: self.on_batch_end(batch, logs))\n",
        "\n",
        "        self.model.fit(x_train, y_train,\n",
        "                       batch_size=batch_size, epochs=epochs,\n",
        "                       callbacks=[callback],\n",
        "                       **kw_fit)\n",
        "\n",
        "        # Restore the weights to the state before model fitting\n",
        "        self.model.set_weights(initial_weights)\n",
        "\n",
        "        # Restore the original learning rate\n",
        "        # K.set_value(self.model.optimizer.lr, original_lr)\n",
        "        keras.backend.set_value(self.model.optimizer.lr, original_lr)\n",
        "\n",
        "    def find_generator(self, generator, start_lr, end_lr, epochs=1, steps_per_epoch=None, **kw_fit):\n",
        "        if steps_per_epoch is None:\n",
        "            try:\n",
        "                steps_per_epoch = len(generator)\n",
        "            except (ValueError, NotImplementedError) as e:\n",
        "                raise e('`steps_per_epoch=None` is only valid for a'\n",
        "                        ' generator based on the '\n",
        "                        '`keras.utils.Sequence`'\n",
        "                        ' class. Please specify `steps_per_epoch` '\n",
        "                        'or use the `keras.utils.Sequence` class.')\n",
        "        self.lr_mult = (float(end_lr) / float(start_lr)) ** (float(1) / float(epochs * steps_per_epoch))\n",
        "\n",
        "        # Save weights into a file\n",
        "        initial_weights = self.model.get_weights()\n",
        "\n",
        "        # Remember the original learning rate\n",
        "        # original_lr = K.get_value(self.model.optimizer.lr)\n",
        "        original_lr = keras.backend.get_value(self.model.optimizer.lr)\n",
        "\n",
        "        # Set the initial learning rate\n",
        "        # K.set_value(self.model.optimizer.lr, start_lr)\n",
        "        keras.backend.set_value(self.model.optimizer.lr, start_lr)\n",
        "\n",
        "        callback = LambdaCallback(on_batch_end=lambda batch,\n",
        "                                                      logs: self.on_batch_end(batch, logs))\n",
        "\n",
        "        self.model.fit_generator(generator=generator,\n",
        "                                 epochs=epochs,\n",
        "                                 steps_per_epoch=steps_per_epoch,\n",
        "                                 callbacks=[callback],\n",
        "                                 **kw_fit)\n",
        "\n",
        "        # Restore the weights to the state before model fitting\n",
        "        self.model.set_weights(initial_weights)\n",
        "\n",
        "        # Restore the original learning rate\n",
        "        # K.set_value(self.model.optimizer.lr, original_lr)\n",
        "        keras.backend.set_value(self.model.optimizer.lr, original_lr)\n",
        "\n",
        "    def plot_loss(self, n_skip_beginning=10, n_skip_end=5, x_scale='log'):\n",
        "        \"\"\"\n",
        "        Plots the loss.\n",
        "        Parameters:\n",
        "            n_skip_beginning - number of batches to skip on the left.\n",
        "            n_skip_end - number of batches to skip on the right.\n",
        "        \"\"\"\n",
        "        plt.ylabel(\"loss\")\n",
        "        plt.xlabel(\"learning rate (log scale)\")\n",
        "        plt.plot(self.lrs[n_skip_beginning:-n_skip_end], self.losses[n_skip_beginning:-n_skip_end])\n",
        "        plt.xscale(x_scale)\n",
        "        plt.show()\n",
        "\n",
        "    def plot_loss_change(self, sma=1, n_skip_beginning=10, n_skip_end=5, y_lim=(-0.01, 0.01)):\n",
        "        \"\"\"\n",
        "        Plots rate of change of the loss function.\n",
        "        Parameters:\n",
        "            sma - number of batches for simple moving average to smooth out the curve.\n",
        "            n_skip_beginning - number of batches to skip on the left.\n",
        "            n_skip_end - number of batches to skip on the right.\n",
        "            y_lim - limits for the y axis.\n",
        "        \"\"\"\n",
        "        derivatives = self.get_derivatives(sma)[n_skip_beginning:-n_skip_end]\n",
        "        lrs = self.lrs[n_skip_beginning:-n_skip_end]\n",
        "        plt.ylabel(\"rate of loss change\")\n",
        "        plt.xlabel(\"learning rate (log scale)\")\n",
        "        plt.plot(lrs, derivatives)\n",
        "        plt.xscale('log')\n",
        "        plt.ylim(y_lim)\n",
        "        plt.show()\n",
        "\n",
        "    def get_derivatives(self, sma):\n",
        "        assert sma >= 1\n",
        "        derivatives = [0] * sma\n",
        "        for i in range(sma, len(self.lrs)):\n",
        "            derivatives.append((self.losses[i] - self.losses[i - sma]) / sma)\n",
        "        return derivatives\n",
        "\n",
        "    def get_best_lr(self, sma, n_skip_beginning=10, n_skip_end=5):\n",
        "        derivatives = self.get_derivatives(sma)\n",
        "        best_der_idx = np.argmin(derivatives[n_skip_beginning:-n_skip_end])\n",
        "        return self.lrs[n_skip_beginning:-n_skip_end][best_der_idx]"
      ],
      "execution_count": 21,
      "outputs": []
    },
    {
      "cell_type": "code",
      "metadata": {
        "id": "EjPdP-q25veG",
        "outputId": "85aebf99-3b57-4009-af73-19a627473aef",
        "colab": {
          "base_uri": "https://localhost:8080/",
          "height": 187
        }
      },
      "source": [
        "model_lrf = build_model()\n",
        "model_lrf.compile(optimizer=\"sgd\", loss=\"categorical_crossentropy\", metrics=[\"accuracy\"])\n",
        "\n",
        "lr_finder = LRFinder(model_lrf)\n",
        "lr_finder.find(Xtrain, ytrain, start_lr=1e-7, end_lr=1, batch_size=64, epochs=5)"
      ],
      "execution_count": 22,
      "outputs": [
        {
          "output_type": "stream",
          "text": [
            "Epoch 1/5\n",
            "782/782 [==============================] - 4s 6ms/step - loss: 3.2740 - accuracy: 0.1084\n",
            "Epoch 2/5\n",
            "782/782 [==============================] - 4s 5ms/step - loss: 3.1219 - accuracy: 0.1080\n",
            "Epoch 3/5\n",
            "782/782 [==============================] - 4s 6ms/step - loss: 2.5555 - accuracy: 0.1465\n",
            "Epoch 4/5\n",
            "782/782 [==============================] - 4s 6ms/step - loss: 1.8626 - accuracy: 0.3213\n",
            "Epoch 5/5\n",
            "782/782 [==============================] - 4s 5ms/step - loss: 1.6535 - accuracy: 0.4085\n"
          ],
          "name": "stdout"
        }
      ]
    },
    {
      "cell_type": "code",
      "metadata": {
        "id": "PgigBF_W6JWO",
        "outputId": "04185d84-9d38-46bc-a128-cbd632fc0c70",
        "colab": {
          "base_uri": "https://localhost:8080/",
          "height": 283
        }
      },
      "source": [
        "lr_finder.plot_loss(n_skip_beginning=20, n_skip_end=5)"
      ],
      "execution_count": 23,
      "outputs": [
        {
          "output_type": "display_data",
          "data": {
            "image/png": "[encoded data removed]",
            "text/plain": [
              "<Figure size 432x288 with 1 Axes>"
            ]
          },
          "metadata": {
            "tags": [],
            "needs_background": "light"
          }
        }
      ]
    },
    {
      "cell_type": "code",
      "metadata": {
        "id": "0uLZuJao7e-p",
        "outputId": "51a92ed2-1124-47b6-db0a-4f7ecfe9782c",
        "colab": {
          "base_uri": "https://localhost:8080/",
          "height": 287
        }
      },
      "source": [
        "lr_finder.plot_loss_change(sma=20, n_skip_beginning=20, n_skip_end=5, y_lim=(-0.01, 0.01))"
      ],
      "execution_count": 24,
      "outputs": [
        {
          "output_type": "display_data",
          "data": {
            "image/png": "[encoded data removed]",
            "text/plain": [
              "<Figure size 432x288 with 1 Axes>"
            ]
          },
          "metadata": {
            "tags": [],
            "needs_background": "light"
          }
        }
      ]
    },
    {
      "cell_type": "markdown",
      "metadata": {
        "id": "iW-lukfY8qg4"
      },
      "source": [
        "We obtain our Learning rate boundaries from the above two plots\n",
        "* minimum == 1e-4\n",
        "* maximum == 0.1\n",
        "\n",
        "We will now train our model with these learning rates for 10 epochs using CLR."
      ]
    },
    {
      "cell_type": "code",
      "metadata": {
        "id": "b8vztwuW7uCq"
      },
      "source": [
        "batch_size = 128\n",
        "step_size = 4 * Xtrain.shape[0] // batch_size\n",
        "clr = CyclicLR(mode=\"triangular2\",\n",
        "               base_lr=1e-4,\n",
        "               max_lr=1e-1,\n",
        "               step_size=step_size)"
      ],
      "execution_count": 25,
      "outputs": []
    },
    {
      "cell_type": "code",
      "metadata": {
        "id": "JRLfytbr9ST0",
        "outputId": "5b3d984a-ca74-4a57-c3b3-352b0f00eac4",
        "colab": {
          "base_uri": "https://localhost:8080/",
          "height": 377
        }
      },
      "source": [
        "model_clr = build_model()\n",
        "\n",
        "clr_callback = keras.callbacks.LearningRateScheduler(schedule)\n",
        "model_clr.compile(optimizer=\"sgd\", loss=\"categorical_crossentropy\", metrics=[\"accuracy\"])\n",
        "\n",
        "history = model_clr.fit(Xtrain, ytrain, batch_size=64, epochs=10, validation_split=0.2,\n",
        "                        callbacks=[clr])"
      ],
      "execution_count": 26,
      "outputs": [
        {
          "output_type": "stream",
          "text": [
            "Epoch 1/10\n",
            "625/625 [==============================] - 4s 6ms/step - loss: 1.9019 - accuracy: 0.3281 - val_loss: 1.8083 - val_accuracy: 0.3633\n",
            "Epoch 2/10\n",
            "625/625 [==============================] - 4s 6ms/step - loss: 1.4201 - accuracy: 0.4886 - val_loss: 1.4956 - val_accuracy: 0.4623\n",
            "Epoch 3/10\n",
            "625/625 [==============================] - 4s 6ms/step - loss: 1.2524 - accuracy: 0.5585 - val_loss: 1.5536 - val_accuracy: 0.4910\n",
            "Epoch 4/10\n",
            "625/625 [==============================] - 4s 6ms/step - loss: 1.0617 - accuracy: 0.6237 - val_loss: 1.0524 - val_accuracy: 0.6377\n",
            "Epoch 5/10\n",
            "625/625 [==============================] - 4s 6ms/step - loss: 0.9216 - accuracy: 0.6750 - val_loss: 0.9338 - val_accuracy: 0.6761\n",
            "Epoch 6/10\n",
            "625/625 [==============================] - 4s 6ms/step - loss: 0.8656 - accuracy: 0.6962 - val_loss: 0.9592 - val_accuracy: 0.6695\n",
            "Epoch 7/10\n",
            "625/625 [==============================] - 4s 6ms/step - loss: 0.8876 - accuracy: 0.6880 - val_loss: 1.1939 - val_accuracy: 0.5892\n",
            "Epoch 8/10\n",
            "625/625 [==============================] - 4s 6ms/step - loss: 0.8919 - accuracy: 0.6847 - val_loss: 1.0604 - val_accuracy: 0.6385\n",
            "Epoch 9/10\n",
            "625/625 [==============================] - 4s 6ms/step - loss: 0.8262 - accuracy: 0.7090 - val_loss: 0.9534 - val_accuracy: 0.6723\n",
            "Epoch 10/10\n",
            "625/625 [==============================] - 4s 6ms/step - loss: 0.7467 - accuracy: 0.7379 - val_loss: 0.8663 - val_accuracy: 0.7054\n"
          ],
          "name": "stdout"
        }
      ]
    },
    {
      "cell_type": "code",
      "metadata": {
        "id": "jCTbtQIr9a1Q",
        "outputId": "f882b51e-d58a-4d28-efb0-f5d0f1b72fa3",
        "colab": {
          "base_uri": "https://localhost:8080/",
          "height": 51
        }
      },
      "source": [
        "scores = model_clr.evaluate(Xtest, ytest)\n",
        "print(\"test loss: {:.5f}, accuracy: {:.5f}\".format(scores[0], scores[1]))"
      ],
      "execution_count": 27,
      "outputs": [
        {
          "output_type": "stream",
          "text": [
            "313/313 [==============================] - 1s 3ms/step - loss: 0.8662 - accuracy: 0.7028\n",
            "test loss: 0.86624, accuracy: 0.70280\n"
          ],
          "name": "stdout"
        }
      ]
    },
    {
      "cell_type": "code",
      "metadata": {
        "id": "U0VBBgPn-1Rj"
      },
      "source": [
        ""
      ],
      "execution_count": null,
      "outputs": []
    }
  ]
}